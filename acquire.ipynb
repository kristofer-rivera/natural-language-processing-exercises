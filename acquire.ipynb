{
 "cells": [
  {
   "cell_type": "code",
   "execution_count": 4,
   "id": "67ac2e21-6657-42d9-9b72-218aa980901b",
   "metadata": {},
   "outputs": [],
   "source": [
    "from requests import get\n",
    "from bs4 import BeautifulSoup\n",
    "import numpy as np\n",
    "import pandas as pd"
   ]
  },
  {
   "cell_type": "markdown",
   "id": "94fa7107-a671-4b4c-9cf6-1a448bded0e8",
   "metadata": {},
   "source": [
    "**1) Codeup Blog Articles**\n",
    "\n",
    "Visit Codeup's Blog and record the urls for at least 5 distinct blog posts. For each post, you should scrape at least the post's title and content.\n",
    "\n",
    "Encapsulate your work in a function named get_blog_articles that will return a list of dictionaries, with each dictionary representing one article. The shape of each dictionary should look like this:"
   ]
  },
  {
   "cell_type": "code",
   "execution_count": 3,
   "id": "a5320d21-e90b-4328-ad68-cc67ecd8569f",
   "metadata": {},
   "outputs": [
    {
     "data": {
      "text/plain": [
       "{'title': 'the title of the article',\n",
       " 'content': 'the full text content of the article'}"
      ]
     },
     "execution_count": 3,
     "metadata": {},
     "output_type": "execute_result"
    }
   ],
   "source": [
    "{\n",
    "    'title': 'the title of the article',\n",
    "    'content': 'the full text content of the article'\n",
    "}\n"
   ]
  },
  {
   "cell_type": "markdown",
   "id": "d984af2c-4607-4e3d-9e02-53946c180760",
   "metadata": {},
   "source": [
    "Plus any additional properties you think might be helpful.\n",
    "\n",
    "Bonus: Scrape the text of all the articles linked on codeup's blog page."
   ]
  },
  {
   "cell_type": "code",
   "execution_count": 78,
   "id": "415a8f86-206d-4d8c-842c-1f10527eacd9",
   "metadata": {},
   "outputs": [],
   "source": [
    "#Blog Post URLs\n",
    "url1 = 'https://codeup.com/cybersecurity/a-rise-in-cyber-attacks-means-opportunities-for-veterans-in-san-antonio/'\n",
    "url2 = 'https://codeup.com/it-training/it-certifications-101/'\n",
    "url3 = 'https://codeup.com/it-training/what-the-heck-is-system-engineering/'\n",
    "url4 = 'https://codeup.com/codeup-news/is-codeup-the-best-bootcamp-in-san-antonio-or-the-world/'\n",
    "url5 = 'https://codeup.com/workshops/from-bootcamp-to-bootcamp-a-military-appreciation-panel/'"
   ]
  },
  {
   "cell_type": "markdown",
   "id": "5c79a91c-fa1e-4080-979c-8ef598f3a7b4",
   "metadata": {},
   "source": [
    "**URL 1**"
   ]
  },
  {
   "cell_type": "code",
   "execution_count": 18,
   "id": "3f32a37e-a4b7-404f-830a-79f7c22eb8d0",
   "metadata": {},
   "outputs": [
    {
     "data": {
      "text/plain": [
       "<Response [200]>"
      ]
     },
     "execution_count": 18,
     "metadata": {},
     "output_type": "execute_result"
    }
   ],
   "source": [
    "headers = {'User-Agent': 'Codeup Data Science'}\n",
    "response = get(url1, headers=headers)\n",
    "response"
   ]
  },
  {
   "cell_type": "code",
   "execution_count": 20,
   "id": "016256b7-5d5a-4022-9167-43f7f8142bb9",
   "metadata": {},
   "outputs": [
    {
     "name": "stdout",
     "output_type": "stream",
     "text": [
      "<!DOCTYPE html>\n",
      "<html lang=\"en-US\">\n",
      "<head>\n",
      "\t<meta charset=\"UTF-8\" />\n",
      "<meta http-equiv=\"X-UA-Compatible\" content=\"IE=edge\">\n",
      "\t<link rel=\"pingback\" href=\"https://codeup.com/xmlrpc.php\" />\n",
      "\n",
      "\t<script type=\"text/javascript\">\n",
      "\t\tdocument.documentElement.className = 'js';\n",
      "\t</script>\n",
      "\t\n",
      "\t<link rel=\"preconnect\" href=\"https://fonts.gstatic.com\" crossorigin /><script id=\"diviarea-loader\">window.DiviPopupData=wi\n"
     ]
    }
   ],
   "source": [
    "#sanity check\n",
    "print(response.text[:400])"
   ]
  },
  {
   "cell_type": "code",
   "execution_count": 33,
   "id": "62e23ddd-2534-42d4-a90d-0434e05f32fc",
   "metadata": {},
   "outputs": [],
   "source": [
    "# Make a soup variable holding the response content\n",
    "soup = BeautifulSoup(response.content, 'html.parser')"
   ]
  },
  {
   "cell_type": "code",
   "execution_count": 42,
   "id": "049406dc-9a6e-4072-addd-d93196a1c866",
   "metadata": {},
   "outputs": [
    {
     "data": {
      "text/plain": [
       "[<div class=\"et_post_meta_wrapper\">\n",
       " <h1 class=\"entry-title\">A rise in cyber attacks means opportunities for veterans in San Antonio</h1>\n",
       " <p class=\"post-meta\"><span class=\"published\">Nov 17, 2021</span> | <a href=\"https://codeup.com/category/cybersecurity/\" rel=\"category tag\">Cybersecurity</a></p><img alt=\"Cyber Security\" class=\"\" height=\"675\" sizes=\"(min-width: 0px) and (max-width: 480px) 480px, (min-width: 481px) and (max-width: 980px) 980px, (min-width: 981px) 1080px, 100vw\" src=\"https://199lj33nqk3p88xz03dvn481-wpengine.netdna-ssl.com/wp-content/uploads/2021/11/fly-d-zAhAUSdRLJ8-unsplash-1080x675.jpg\" srcset=\"https://199lj33nqk3p88xz03dvn481-wpengine.netdna-ssl.com/wp-content/uploads/2021/11/fly-d-zAhAUSdRLJ8-unsplash-980x654.jpg 980w, https://199lj33nqk3p88xz03dvn481-wpengine.netdna-ssl.com/wp-content/uploads/2021/11/fly-d-zAhAUSdRLJ8-unsplash-480x320.jpg 480w\" width=\"1080\"/>\n",
       " </div>,\n",
       " <div class=\"et_post_meta_wrapper\">\n",
       " </div>]"
      ]
     },
     "execution_count": 47,
     "metadata": {},
     "output_type": "execute_result"
    }
   ],
   "source": [
    "soup.select('div.et_post_meta_wrapper')"
   ]
  },
  {
   "cell_type": "code",
   "execution_count": 34,
   "id": "d9780cba-41a3-495f-a33d-82835ee46f17",
   "metadata": {},
   "outputs": [
    {
     "data": {
      "text/plain": [
       "'A rise in cyber attacks means opportunities for veterans in San Antonio'"
      ]
     },
     "execution_count": 34,
     "metadata": {},
     "output_type": "execute_result"
    }
   ],
   "source": [
    "# Get title of the article\n",
    "title = soup.find('h1', class_='entry-title').text\n",
    "title"
   ]
  },
  {
   "cell_type": "code",
   "execution_count": 49,
   "id": "7dded6c2-04d6-4b98-8a3b-0fb43e590bd4",
   "metadata": {},
   "outputs": [
    {
     "data": {
      "text/plain": [
       "'Nov 17, 2021'"
      ]
     },
     "execution_count": 49,
     "metadata": {},
     "output_type": "execute_result"
    }
   ],
   "source": [
    "# Get date published\n",
    "date = soup.find('span', class_='published').text\n",
    "date"
   ]
  },
  {
   "cell_type": "code",
   "execution_count": 62,
   "id": "b95b4e8f-a282-44d5-8c34-f57974fe2178",
   "metadata": {},
   "outputs": [
    {
     "data": {
      "text/plain": [
       "'Cybersecurity'"
      ]
     },
     "execution_count": 62,
     "metadata": {},
     "output_type": "execute_result"
    }
   ],
   "source": [
    "# Get article category\n",
    "category = soup.find('a', rel = 'category tag').text\n",
    "category"
   ]
  },
  {
   "cell_type": "code",
   "execution_count": 67,
   "id": "2f0e007e-eb6f-4824-994a-484fe3b94adf",
   "metadata": {},
   "outputs": [
    {
     "data": {
      "text/plain": [
       "'In the last few months, the US has experienced dozens of major cyberattacks against leading organizations like Accenture, the NBA, and Kia Motors. Similar attacks are on the rise. This year, 38% more companies have experienced cyber attacks as compared to last year. Often, they involve a ransom payment in order to re-access stolen files. The amount paid by these victims has increased by 300%. In our headquarters of San Antonio, Texas, even local organizations are at risk. Recently, Judson ISD paid a $500,000 ransom. In 2020, there were over 300,000 open roles for cybersecurity professionals in the US. To add to that, the US Bureau of Labor Statistics predicts a 31% increase in Information Security roles in the upcoming years. As attacks are on the rise, the demand for cybersecurity professionals is quickly increasing. But with so many open roles, the issue isn’t demand – it’s supply. Luckily, San Antonio is already a national leader in cybersecurity. We have over 16,000 employees in the field, which is the most certified cyber professionals outside of D.C.. With industry giants like USAA and Lockheed Martin in the city, we have a good footing over much of the country. Moreover, San Antonio is Military City, USA. We’re home to one of the largest populations of bases, veterans, and active service members in the country. With both these backgrounds, the city is well-positioned to continue to lead our country’s defense – not just traditionally, but in cyber warfare as well.  But we still need more help. What can we do about it? Train more cybersecurity professionals. Organizations like Project Quest have supported cybersecurity training for years. But we can’t rely solely on non-profit funding. There are plenty of opportunities for veterans to enter the field with VA benefits. Training programs like Codeup Cloud Academy are approved to accept GI Bill® and Vocational Rehab. This allows veterans to receive housing support while getting the cybersecurity training they need in our Cyber Cloud program. Want to keep San Antonio safe and positioned as a leader in Cybersecurity? Help us train the next generation of cybersecurity professionals! Connect us with veterans in your network so we can all help continue San Antonio’s tradition of protecting our city and country!'"
      ]
     },
     "execution_count": 67,
     "metadata": {},
     "output_type": "execute_result"
    }
   ],
   "source": [
    "# Get article content \n",
    "content = soup.find('div', class_= 'entry-content').text.strip().replace('\\n', ' ')\n",
    "content"
   ]
  },
  {
   "cell_type": "code",
   "execution_count": 90,
   "id": "71cc1a93-8e29-4cf7-99dd-ed87ad35a03b",
   "metadata": {},
   "outputs": [],
   "source": [
    "## Create function that creates a dictionary out of a codeup blog page url\n",
    "\n",
    "def parse_blog(url):\n",
    "    url = url\n",
    "    #establish header\n",
    "    headers = {'User-Agent': 'Codeup Data Science'}\n",
    "    response = get(url, headers=headers)\n",
    "    \n",
    "    # Make a soup variable holding the response content\n",
    "    soup = BeautifulSoup(response.content, 'html.parser')\n",
    "    \n",
    "    output = {}\n",
    "    output['title'] = soup.find('h1', class_='entry-title').text\n",
    "    output['date'] = soup.find('span', class_='published').text\n",
    "    output['category'] = soup.find('a', rel = 'category tag').text\n",
    "    output['content'] = soup.find('div', class_= 'entry-content').text.strip().replace('\\n', ' ').replace('\\xa0', ' ')\n",
    "    \n",
    "    return output\n",
    "    "
   ]
  },
  {
   "cell_type": "code",
   "execution_count": 91,
   "id": "94be651a-e087-457d-82fe-7ba0a956981f",
   "metadata": {},
   "outputs": [
    {
     "data": {
      "text/plain": [
       "{'title': 'What the Heck is System Engineering?',\n",
       " 'date': 'Oct 21, 2021',\n",
       " 'category': 'IT Training',\n",
       " 'content': 'Codeup offers a 13-week training program: Systems Engineering. Designed to help you launch your career in tech, this program takes you from 0 experience to IT hero with certifications and hands-on experience in just weeks. But if you’re new to tech, you might be wondering…what is Systems Engineering? What is Systems Engineering? In IT terms, a Systems Engineer (Sysadmin or Sysad for short) is responsible for the configuration, upkeep, and operation of computer systems. They manage things like security, storage, automation, troubleshooting, and a whole lot more. For example, some of the day to day tasks include things like:  Reviewing system logs for anomalies and issues Updating operating systems (OS) Installing new hardware and software Managing user accounts Documenting information about the system setup Managing file systems  You might be thinking, “Woah, that looks like a lot!” and that’s because it is! A Systems Engineer is a critical piece of IT infrastructure. And in today’s digital age, all companies are IT companies, which means Sysadmins are critical everywhere. You can think of a Sysad as a jack-of-all-trades of what we typically think of as IT. But don’t forget how the old saying actually ends: “A jack of all trades is a master of none, but oftentimes better than a master of none.” So, what are the skills a Sysadmin uses?  Networking – Networking skills include how to configure, maintain, and troubleshoot networks, including using hardware like switches, routers, and firewalls. These skills and concepts are crucial to any systems engineering position. You not only need to understand them but also need some way to prove it. With the Network+ certification, job seekers can come to employers with proof of their networking know-how. Linux- Linux is one of the most popular Operating Systems (OS). It is fully compatible with Mac OS and underpins all Android systems. In fact, the world’s IT infrastructure is run primarily on Linux. Certifications are the primary way technical folks prove their skills and Linux is no different. The CompTIA Linux+ certification is an entry-level certification that proves knowledge and basic technical proficiency in the job role Cloud – This involves using servers and tools (i.e. processing and storage hardware) that are based in a different location, instead of on-site. Our program introduces students to cloud concepts like storage, computing, permissions, and more!  Why Become a Systems Engineer? Now you know what a Sysadmin does and what skills they use. But why become a Sysadmin? The world is increasingly dependent on computer systems and their underlying technologies. Configuring computer software, designing innovative solutions for specific problems, and basic troubleshooting skills are more and more in demand each year.  Without systems engineers, the technical world would stop innovating and become stagnant.  They are in demand! Companies rely on Sysadmins to keep all their IT running You’ll become a tech guru! You won’t just be the person who can fix the printer. You’ll also be the person who can script, work with servers, navigate AWS Cloud tools, and work on modern web technologies. You can specialize! With the breadth of knowledge you’ll obtain, you can have a specialized career in IT. Just hone in on one of your interests, whether it’s security, cloud, databases, or something that doesn’t even exist yet!  Interested in learning more? Sign up for our Network Fundamentals Crash Course to get a taste for these skills – a $500 value you can get for free!Ready to go all-in? Apply to our 13-week Systems Engineering program where you’ll earn your Network+ and Linux+ certifications, along with skills in AWS, LAMP, Microsoft, and more!'}"
      ]
     },
     "execution_count": 91,
     "metadata": {},
     "output_type": "execute_result"
    }
   ],
   "source": [
    "#Test function\n",
    "parse_blog(url3)"
   ]
  },
  {
   "cell_type": "code",
   "execution_count": 93,
   "id": "567d75a9-a683-4a7d-8194-feb2669749f5",
   "metadata": {},
   "outputs": [],
   "source": [
    "## Create a function that can scrape articles from the codeup blog page and return a list of dictionaries\n",
    "\n",
    "def get_blog_articles(urls):\n",
    "    \"\"\"\n",
    "    This function takes in a list of urls for Codeup blog articles. It loops through each, and uses the parse_blog() function to get the title,\n",
    "    publishing date, category, and article content and create a dictionaries that are placed into a list. It returns a list of dictionaries.\n",
    "    \"\"\"\n",
    "  \n",
    "    output = []\n",
    "    \n",
    "    for url in urls:\n",
    "        output.append(parse_blog(url))\n",
    "    \n",
    "    return output\n",
    "    \n",
    "    "
   ]
  },
  {
   "cell_type": "code",
   "execution_count": 94,
   "id": "5568e611-4971-4f30-8ec6-7933e3ca2696",
   "metadata": {},
   "outputs": [
    {
     "data": {
      "text/plain": [
       "['https://codeup.com/cybersecurity/a-rise-in-cyber-attacks-means-opportunities-for-veterans-in-san-antonio/',\n",
       " 'https://codeup.com/it-training/it-certifications-101/',\n",
       " 'https://codeup.com/it-training/what-the-heck-is-system-engineering/',\n",
       " 'https://codeup.com/codeup-news/is-codeup-the-best-bootcamp-in-san-antonio-or-the-world/',\n",
       " 'https://codeup.com/workshops/from-bootcamp-to-bootcamp-a-military-appreciation-panel/']"
      ]
     },
     "execution_count": 94,
     "metadata": {},
     "output_type": "execute_result"
    }
   ],
   "source": [
    "# Define my list of urls\n",
    "urls = [url1, url2, url3, url4, url5]\n",
    "urls"
   ]
  },
  {
   "cell_type": "code",
   "execution_count": 97,
   "id": "602dd1de-c59f-4ec7-b8c7-6e829ba1111d",
   "metadata": {},
   "outputs": [
    {
     "data": {
      "text/plain": [
       "[{'title': 'A rise in cyber attacks means opportunities for veterans in San Antonio',\n",
       "  'date': 'Nov 17, 2021',\n",
       "  'category': 'Cybersecurity',\n",
       "  'content': 'In the last few months, the US has experienced dozens of major cyberattacks against leading organizations like Accenture, the NBA, and Kia Motors. Similar attacks are on the rise. This year, 38% more companies have experienced cyber attacks as compared to last year. Often, they involve a ransom payment in order to re-access stolen files. The amount paid by these victims has increased by 300%. In our headquarters of San Antonio, Texas, even local organizations are at risk. Recently, Judson ISD paid a $500,000 ransom. In 2020, there were over 300,000 open roles for cybersecurity professionals in the US. To add to that, the US Bureau of Labor Statistics predicts a 31% increase in Information Security roles in the upcoming years. As attacks are on the rise, the demand for cybersecurity professionals is quickly increasing. But with so many open roles, the issue isn’t demand – it’s supply. Luckily, San Antonio is already a national leader in cybersecurity. We have over 16,000 employees in the field, which is the most certified cyber professionals outside of D.C.. With industry giants like USAA and Lockheed Martin in the city, we have a good footing over much of the country. Moreover, San Antonio is Military City, USA. We’re home to one of the largest populations of bases, veterans, and active service members in the country. With both these backgrounds, the city is well-positioned to continue to lead our country’s defense – not just traditionally, but in cyber warfare as well.  But we still need more help. What can we do about it? Train more cybersecurity professionals. Organizations like Project Quest have supported cybersecurity training for years. But we can’t rely solely on non-profit funding. There are plenty of opportunities for veterans to enter the field with VA benefits. Training programs like Codeup Cloud Academy are approved to accept GI Bill® and Vocational Rehab. This allows veterans to receive housing support while getting the cybersecurity training they need in our Cyber Cloud program. Want to keep San Antonio safe and positioned as a leader in Cybersecurity? Help us train the next generation of cybersecurity professionals! Connect us with veterans in your network so we can all help continue San Antonio’s tradition of protecting our city and country!'},\n",
       " {'title': 'IT Certifications 101: Why They Matter, and Why They Don’t',\n",
       "  'date': 'Nov 18, 2021',\n",
       "  'category': 'IT Training',\n",
       "  'content': 'AWS, Google, Azure, Red Hat, CompTIA…these are big names in IT! And not only for their products, but also for the certifications they offer. If you’re new to tech, you might be wondering: Do certifications really matter? Welcome to IT Certifications 101! What’s the tl;dr? Certifications are critical to getting past HR for certain roles, but they won’t get you the job. What are IT Certifications? Certifications are official credentials given by companies, institutions, and vendors to verify that you have demonstrated a specific knowledge or skill. They are a stamp of approval from a known brand (like Amazon) saying “This person knows their stuff.” Certs are used in a lot of industries, including technology. Even within tech, there are dozens of vendors and hundreds of certs. Why do IT Certifications matter to employers? Many roles (including security, system administration, and networking) require certain certs to make it in the door of an interview process. This filter matters for several reasons: it helps narrow down the pool of applicants, it establishes a baseline of shared knowledge or experience across all applicants, and it expedites the process so that employers don’t have to spend as much time vetting basic technical skills.      Why do they matter to you? Obtaining certs in IT will provide you with a number of benefits:  You will show up in recruiter searches on LinkedIn! You can follow specific, concrete paths for your career development You obtain industry-recognized, respected, and transferable credentials relevant for your whole career You develop relevant and broad-base content knowledge You will be able to pass initial HR screenings and land a seat in the interview  Why DON’T they matter to employers and you? At the end of the day, certifications are just pieces of paper. They represent your ability to pass a test, not to do a job. Sometimes those things are one and the same, but usually, they are very different. Certifications are like the entrance fee to get into a tournament: you still need to fight your way to the top. And when you’re standing in the ring, it’s better to know how to fight than to have a degree in fighting. Additionally, not all jobs within tech care about certifications at all. For example, there is technically a Java programming certification from Oracle, but it’s almost never required or considered for job applications because it tests very specific, abnormal, and academic concepts that don’t apply to most real-world software development. If Certs matter AND don’t matter, what do I do? At Codeup, we like to think of our IT training as CertificationsPLUS, as in – you get certifications PLUS hands-on experience. Here’s a quick way to think about it: Amazon Web Services has basic certifications called Cloud Practitioner and Solutions Architect Associate. The official Amazon training for these certs is 1 week: 4 days of training and 1 day of exam readiness. The 1-week schedule will present to you mostly everything you need to pass the certification exam, and then it’s on you to go cram and memorize to get ready. Once you pass, you’ll have the cert, but you’ll be a paper tiger: all bark and no bite. In other words, you’ll appear knowledgeable and skillful on paper, but in reality, you won’t have any experience or know-how for completing the real work. Alternatively, Codeup spends 5 weeks on AWS, combining exam study and hands-on practice. That way, you can talk the talk and walk the walk. If you want to learn more about IT certification and training paths, reach out to us at info@codeup.com!'},\n",
       " {'title': 'What the Heck is System Engineering?',\n",
       "  'date': 'Oct 21, 2021',\n",
       "  'category': 'IT Training',\n",
       "  'content': 'Codeup offers a 13-week training program: Systems Engineering. Designed to help you launch your career in tech, this program takes you from 0 experience to IT hero with certifications and hands-on experience in just weeks. But if you’re new to tech, you might be wondering…what is Systems Engineering? What is Systems Engineering? In IT terms, a Systems Engineer (Sysadmin or Sysad for short) is responsible for the configuration, upkeep, and operation of computer systems. They manage things like security, storage, automation, troubleshooting, and a whole lot more. For example, some of the day to day tasks include things like:  Reviewing system logs for anomalies and issues Updating operating systems (OS) Installing new hardware and software Managing user accounts Documenting information about the system setup Managing file systems  You might be thinking, “Woah, that looks like a lot!” and that’s because it is! A Systems Engineer is a critical piece of IT infrastructure. And in today’s digital age, all companies are IT companies, which means Sysadmins are critical everywhere. You can think of a Sysad as a jack-of-all-trades of what we typically think of as IT. But don’t forget how the old saying actually ends: “A jack of all trades is a master of none, but oftentimes better than a master of none.” So, what are the skills a Sysadmin uses?  Networking – Networking skills include how to configure, maintain, and troubleshoot networks, including using hardware like switches, routers, and firewalls. These skills and concepts are crucial to any systems engineering position. You not only need to understand them but also need some way to prove it. With the Network+ certification, job seekers can come to employers with proof of their networking know-how. Linux- Linux is one of the most popular Operating Systems (OS). It is fully compatible with Mac OS and underpins all Android systems. In fact, the world’s IT infrastructure is run primarily on Linux. Certifications are the primary way technical folks prove their skills and Linux is no different. The CompTIA Linux+ certification is an entry-level certification that proves knowledge and basic technical proficiency in the job role Cloud – This involves using servers and tools (i.e. processing and storage hardware) that are based in a different location, instead of on-site. Our program introduces students to cloud concepts like storage, computing, permissions, and more!  Why Become a Systems Engineer? Now you know what a Sysadmin does and what skills they use. But why become a Sysadmin? The world is increasingly dependent on computer systems and their underlying technologies. Configuring computer software, designing innovative solutions for specific problems, and basic troubleshooting skills are more and more in demand each year.  Without systems engineers, the technical world would stop innovating and become stagnant.  They are in demand! Companies rely on Sysadmins to keep all their IT running You’ll become a tech guru! You won’t just be the person who can fix the printer. You’ll also be the person who can script, work with servers, navigate AWS Cloud tools, and work on modern web technologies. You can specialize! With the breadth of knowledge you’ll obtain, you can have a specialized career in IT. Just hone in on one of your interests, whether it’s security, cloud, databases, or something that doesn’t even exist yet!  Interested in learning more? Sign up for our Network Fundamentals Crash Course to get a taste for these skills – a $500 value you can get for free!Ready to go all-in? Apply to our 13-week Systems Engineering program where you’ll earn your Network+ and Linux+ certifications, along with skills in AWS, LAMP, Microsoft, and more!'},\n",
       " {'title': 'Is Codeup the Best Bootcamp in San Antonio…or the World?',\n",
       "  'date': 'Sep 16, 2021',\n",
       "  'category': 'Codeup News',\n",
       "  'content': 'Looking for the best data science bootcamp in the world? Or how about the best coding bootcamp in San Antonio? If you’re reading this, you’ve found both! We are thrilled to announce that Codeup has been chosen as a Best Data Science Bootcamp of 2021 by Course Report, and a Best San Antonio Coding Bootcamp 2021 by Career Karma. Best Data Science Bootcamp in the World Course Report is a leading authority in ranking and reviewing bootcamps. Every year, they compile a list of the Best Data Science Bootcamps in the world. Codeup made the 2021 list, along with 21 other bootcamps, for our Data Science program. Why? Course Report considers alumni and student reviews, financing options, outcome transparency, and duration of the program. More on how Codeup performs in each of those categories below! Best Coding Bootcamp in San Antonio The folks at Career Karma are experts on what the best bootcamps are for various tech careers. They’ve recently identified the 10 Best Coding Bootcamps in San Antonio in 2021 with Codeup in the top 5 for our Web Development program. Also on the list is Open Cloud Academy, which is now Codeup Cloud Academy (CCA), owned and operated by us. The CCA programs recognized are cybersecurity and Systems Engineering. Why Codeup? Here are a few reasons why Codeup is one of the best bootcamps in San Antonio and the world: \\u3000\\u3000• Students and alumni gave an average rating of 4.69 stars on Course Report\\u3000\\u3000• 6 financing partners believe in our program so much that they offer aid to our students, including VA benefits for our veterans\\u3000\\u3000• Data Science grads earn a median starting salary of about $70,000 with high placement rates \\u3000\\u3000• Web Development grads earn a median starting salary that’s above the local, state, and nationwide averages for entry-level developers at about $45,500\\u3000\\u3000• The intensive programs need 22 weeks (5-6 months) to cover a robust curriculum that’s catered to employers\\u3000\\u3000• The instructors have decades of prior industry experience and are invested in each student’s learning and success These awards are huge for the security and confidence they provide our students and employer partners. If you’re an employer looking to hire from the best bootcamp, now you know where to find high-quality talent. If you’re interested in a career change into tech, now you know where to apply to get the best experience.  Special shoutouts are in order to every single person on our incredible staff. It is an honor to be recognized not just locally, but globally! If you’d like to work at an award-winning institution, now you know where you can join a well-oiled machine and make a huge impact. We’re hiring!'},\n",
       " {'title': 'From Bootcamp to Bootcamp | A Military Appreciation Panel',\n",
       "  'date': 'Apr 27, 2022',\n",
       "  'category': 'Alumni Stories',\n",
       "  'content': 'In honor of Military Appreciation Month, join us for a discussion with Codeup Alumni who are also Military Veterans! We will chat about their experiences attending a coding bootcamp, and how their military training set them up for success here at Codeup. Grab your virtual seat now so you can be sent the exclusive Livestream link on the 11th!  Thank you to our panelists for participating:   Christopher Aguirre Taryn McKenzie  Desiree McElroy    And thanks to Codeup’s Trey Iapachino who is also an Air Force Veteran!'}]"
      ]
     },
     "execution_count": 97,
     "metadata": {},
     "output_type": "execute_result"
    }
   ],
   "source": [
    "# Test my final function \n",
    "get_blog_articles(urls)"
   ]
  },
  {
   "cell_type": "markdown",
   "id": "10d9771a-02a7-467d-a921-0df6133630c9",
   "metadata": {},
   "source": [
    "**2) News Articles**\n",
    "\n",
    "We will now be scraping text data from inshorts, a website that provides a brief overview of many different topics.\n",
    "\n",
    "Write a function that scrapes the news articles for the following topics:\n",
    "\n",
    "- Business\n",
    "- Sports\n",
    "- Technology\n",
    "- Entertainment\n",
    "The end product of this should be a function named get_news_articles that returns a list of dictionaries, where each dictionary has this shape:"
   ]
  },
  {
   "cell_type": "code",
   "execution_count": 98,
   "id": "d1b478d7-dd7c-4c1b-99f8-b652d1f5b7f6",
   "metadata": {},
   "outputs": [
    {
     "data": {
      "text/plain": [
       "{'title': 'The article title',\n",
       " 'content': 'The article content',\n",
       " 'category': 'business'}"
      ]
     },
     "execution_count": 98,
     "metadata": {},
     "output_type": "execute_result"
    }
   ],
   "source": [
    "{\n",
    "    'title': 'The article title',\n",
    "    'content': 'The article content',\n",
    "    'category': 'business' # for example\n",
    "}\n"
   ]
  },
  {
   "cell_type": "code",
   "execution_count": null,
   "id": "0ee3a88d-d1a7-4e80-a7f5-ec483885a621",
   "metadata": {},
   "outputs": [],
   "source": []
  }
 ],
 "metadata": {
  "kernelspec": {
   "display_name": "Python 3.9.7 64-bit ('base': conda)",
   "language": "python",
   "name": "python397jvsc74a57bd038cca0c38332a56087b24af0bc80247f4fced29cb4f7f437d91dc159adec9c4e"
  },
  "language_info": {
   "codemirror_mode": {
    "name": "ipython",
    "version": 3
   },
   "file_extension": ".py",
   "mimetype": "text/x-python",
   "name": "python",
   "nbconvert_exporter": "python",
   "pygments_lexer": "ipython3",
   "version": "3.9.7"
  }
 },
 "nbformat": 4,
 "nbformat_minor": 5
}
