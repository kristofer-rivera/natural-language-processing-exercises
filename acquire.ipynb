{
 "cells": [
  {
   "cell_type": "code",
   "execution_count": 1,
   "id": "67ac2e21-6657-42d9-9b72-218aa980901b",
   "metadata": {},
   "outputs": [],
   "source": [
    "from requests import get\n",
    "from bs4 import BeautifulSoup\n",
    "import numpy as np\n",
    "import pandas as pd"
   ]
  },
  {
   "cell_type": "markdown",
   "id": "94fa7107-a671-4b4c-9cf6-1a448bded0e8",
   "metadata": {},
   "source": [
    "**1) Codeup Blog Articles**\n",
    "\n",
    "Visit Codeup's Blog and record the urls for at least 5 distinct blog posts. For each post, you should scrape at least the post's title and content.\n",
    "\n",
    "Encapsulate your work in a function named get_blog_articles that will return a list of dictionaries, with each dictionary representing one article. The shape of each dictionary should look like this:"
   ]
  },
  {
   "cell_type": "code",
   "execution_count": 2,
   "id": "a5320d21-e90b-4328-ad68-cc67ecd8569f",
   "metadata": {},
   "outputs": [
    {
     "data": {
      "text/plain": [
       "{'title': 'the title of the article',\n",
       " 'content': 'the full text content of the article'}"
      ]
     },
     "execution_count": 2,
     "metadata": {},
     "output_type": "execute_result"
    }
   ],
   "source": [
    "{\n",
    "    'title': 'the title of the article',\n",
    "    'content': 'the full text content of the article'\n",
    "}\n"
   ]
  },
  {
   "cell_type": "markdown",
   "id": "d984af2c-4607-4e3d-9e02-53946c180760",
   "metadata": {},
   "source": [
    "Plus any additional properties you think might be helpful.\n",
    "\n",
    "Bonus: Scrape the text of all the articles linked on codeup's blog page."
   ]
  },
  {
   "cell_type": "code",
   "execution_count": 3,
   "id": "415a8f86-206d-4d8c-842c-1f10527eacd9",
   "metadata": {},
   "outputs": [],
   "source": [
    "#Blog Post URLs\n",
    "url1 = 'https://codeup.com/cybersecurity/a-rise-in-cyber-attacks-means-opportunities-for-veterans-in-san-antonio/'\n",
    "url2 = 'https://codeup.com/it-training/it-certifications-101/'\n",
    "url3 = 'https://codeup.com/it-training/what-the-heck-is-system-engineering/'\n",
    "url4 = 'https://codeup.com/codeup-news/is-codeup-the-best-bootcamp-in-san-antonio-or-the-world/'\n",
    "url5 = 'https://codeup.com/workshops/from-bootcamp-to-bootcamp-a-military-appreciation-panel/'"
   ]
  },
  {
   "cell_type": "markdown",
   "id": "5c79a91c-fa1e-4080-979c-8ef598f3a7b4",
   "metadata": {},
   "source": [
    "**Focus on URL 1**"
   ]
  },
  {
   "cell_type": "code",
   "execution_count": 4,
   "id": "3f32a37e-a4b7-404f-830a-79f7c22eb8d0",
   "metadata": {},
   "outputs": [
    {
     "data": {
      "text/plain": [
       "<Response [200]>"
      ]
     },
     "execution_count": 4,
     "metadata": {},
     "output_type": "execute_result"
    }
   ],
   "source": [
    "headers = {'User-Agent': 'Codeup Data Science'}\n",
    "response = get(url1, headers=headers)\n",
    "response"
   ]
  },
  {
   "cell_type": "code",
   "execution_count": 5,
   "id": "016256b7-5d5a-4022-9167-43f7f8142bb9",
   "metadata": {},
   "outputs": [
    {
     "name": "stdout",
     "output_type": "stream",
     "text": [
      "<!DOCTYPE html>\n",
      "<html lang=\"en-US\">\n",
      "<head>\n",
      "\t<meta charset=\"UTF-8\" />\n",
      "<meta http-equiv=\"X-UA-Compatible\" content=\"IE=edge\">\n",
      "\t<link rel=\"pingback\" href=\"https://codeup.com/xmlrpc.php\" />\n",
      "\n",
      "\t<script type=\"text/javascript\">\n",
      "\t\tdocument.documentElement.className = 'js';\n",
      "\t</script>\n",
      "\t\n",
      "\t<link rel=\"preconnect\" href=\"https://fonts.gstatic.com\" crossorigin /><script id=\"diviarea-loader\">window.DiviPopupData=wi\n"
     ]
    }
   ],
   "source": [
    "#sanity check\n",
    "print(response.text[:400])"
   ]
  },
  {
   "cell_type": "code",
   "execution_count": 6,
   "id": "62e23ddd-2534-42d4-a90d-0434e05f32fc",
   "metadata": {},
   "outputs": [],
   "source": [
    "# Make a soup variable holding the response content\n",
    "soup = BeautifulSoup(response.content, 'html.parser')"
   ]
  },
  {
   "cell_type": "code",
   "execution_count": 7,
   "id": "049406dc-9a6e-4072-addd-d93196a1c866",
   "metadata": {},
   "outputs": [
    {
     "data": {
      "text/plain": [
       "[<div class=\"et_post_meta_wrapper\">\n",
       " <h1 class=\"entry-title\">A rise in cyber attacks means opportunities for veterans in San Antonio</h1>\n",
       " <p class=\"post-meta\"><span class=\"published\">Nov 17, 2021</span> | <a href=\"https://codeup.com/category/cybersecurity/\" rel=\"category tag\">Cybersecurity</a></p><img alt=\"Cyber Security\" class=\"\" height=\"675\" sizes=\"(min-width: 0px) and (max-width: 480px) 480px, (min-width: 481px) and (max-width: 980px) 980px, (min-width: 981px) 1080px, 100vw\" src=\"https://199lj33nqk3p88xz03dvn481-wpengine.netdna-ssl.com/wp-content/uploads/2021/11/fly-d-zAhAUSdRLJ8-unsplash-1080x675.jpg\" srcset=\"https://199lj33nqk3p88xz03dvn481-wpengine.netdna-ssl.com/wp-content/uploads/2021/11/fly-d-zAhAUSdRLJ8-unsplash-980x654.jpg 980w, https://199lj33nqk3p88xz03dvn481-wpengine.netdna-ssl.com/wp-content/uploads/2021/11/fly-d-zAhAUSdRLJ8-unsplash-480x320.jpg 480w\" width=\"1080\"/>\n",
       " </div>,\n",
       " <div class=\"et_post_meta_wrapper\">\n",
       " </div>]"
      ]
     },
     "execution_count": 7,
     "metadata": {},
     "output_type": "execute_result"
    }
   ],
   "source": [
    "soup.select('div.et_post_meta_wrapper')"
   ]
  },
  {
   "cell_type": "code",
   "execution_count": 8,
   "id": "d9780cba-41a3-495f-a33d-82835ee46f17",
   "metadata": {},
   "outputs": [
    {
     "data": {
      "text/plain": [
       "'A rise in cyber attacks means opportunities for veterans in San Antonio'"
      ]
     },
     "execution_count": 8,
     "metadata": {},
     "output_type": "execute_result"
    }
   ],
   "source": [
    "# Get title of the article\n",
    "title = soup.find('h1', class_='entry-title').text\n",
    "title"
   ]
  },
  {
   "cell_type": "code",
   "execution_count": 9,
   "id": "7dded6c2-04d6-4b98-8a3b-0fb43e590bd4",
   "metadata": {},
   "outputs": [
    {
     "data": {
      "text/plain": [
       "'Nov 17, 2021'"
      ]
     },
     "execution_count": 9,
     "metadata": {},
     "output_type": "execute_result"
    }
   ],
   "source": [
    "# Get date published\n",
    "date = soup.find('span', class_='published').text\n",
    "date"
   ]
  },
  {
   "cell_type": "code",
   "execution_count": 10,
   "id": "b95b4e8f-a282-44d5-8c34-f57974fe2178",
   "metadata": {},
   "outputs": [
    {
     "data": {
      "text/plain": [
       "'Cybersecurity'"
      ]
     },
     "execution_count": 10,
     "metadata": {},
     "output_type": "execute_result"
    }
   ],
   "source": [
    "# Get article category\n",
    "category = soup.find('a', rel = 'category tag').text\n",
    "category"
   ]
  },
  {
   "cell_type": "code",
   "execution_count": 11,
   "id": "2f0e007e-eb6f-4824-994a-484fe3b94adf",
   "metadata": {},
   "outputs": [
    {
     "data": {
      "text/plain": [
       "'In the last few months, the US has experienced dozens of major cyberattacks against leading organizations like Accenture, the NBA, and Kia Motors. Similar attacks are on the rise. This year, 38% more companies have experienced cyber attacks as compared to last year. Often, they involve a ransom payment in order to re-access stolen files. The amount paid by these victims has increased by 300%. In our headquarters of San Antonio, Texas, even local organizations are at risk. Recently, Judson ISD paid a $500,000 ransom. In 2020, there were over 300,000 open roles for cybersecurity professionals in the US. To add to that, the US Bureau of Labor Statistics predicts a 31% increase in Information Security roles in the upcoming years. As attacks are on the rise, the demand for cybersecurity professionals is quickly increasing. But with so many open roles, the issue isn’t demand – it’s supply. Luckily, San Antonio is already a national leader in cybersecurity. We have over 16,000 employees in the field, which is the most certified cyber professionals outside of D.C.. With industry giants like USAA and Lockheed Martin in the city, we have a good footing over much of the country. Moreover, San Antonio is Military City, USA. We’re home to one of the largest populations of bases, veterans, and active service members in the country. With both these backgrounds, the city is well-positioned to continue to lead our country’s defense – not just traditionally, but in cyber warfare as well.  But we still need more help. What can we do about it? Train more cybersecurity professionals. Organizations like Project Quest have supported cybersecurity training for years. But we can’t rely solely on non-profit funding. There are plenty of opportunities for veterans to enter the field with VA benefits. Training programs like Codeup Cloud Academy are approved to accept GI Bill® and Vocational Rehab. This allows veterans to receive housing support while getting the cybersecurity training they need in our Cyber Cloud program. Want to keep San Antonio safe and positioned as a leader in Cybersecurity? Help us train the next generation of cybersecurity professionals! Connect us with veterans in your network so we can all help continue San Antonio’s tradition of protecting our city and country!'"
      ]
     },
     "execution_count": 11,
     "metadata": {},
     "output_type": "execute_result"
    }
   ],
   "source": [
    "# Get article content \n",
    "content = soup.find('div', class_= 'entry-content').text.strip().replace('\\n', ' ')\n",
    "content"
   ]
  },
  {
   "cell_type": "code",
   "execution_count": 12,
   "id": "71cc1a93-8e29-4cf7-99dd-ed87ad35a03b",
   "metadata": {},
   "outputs": [],
   "source": [
    "## Create function that creates a dictionary out of a codeup blog page url\n",
    "\n",
    "def parse_blog(url):\n",
    "    url = url\n",
    "    #establish header\n",
    "    headers = {'User-Agent': 'Codeup Data Science'}\n",
    "    response = get(url, headers=headers)\n",
    "    \n",
    "    # Make a soup variable holding the response content\n",
    "    soup = BeautifulSoup(response.content, 'html.parser')\n",
    "    \n",
    "    output = {}\n",
    "    output['title'] = soup.find('h1', class_='entry-title').text\n",
    "    output['date'] = soup.find('span', class_='published').text\n",
    "    output['category'] = soup.find('a', rel = 'category tag').text\n",
    "    output['content'] = soup.find('div', class_= 'entry-content').text.strip().replace('\\n', ' ').replace('\\xa0', ' ')\n",
    "    \n",
    "    return output\n",
    "    "
   ]
  },
  {
   "cell_type": "code",
   "execution_count": 13,
   "id": "94be651a-e087-457d-82fe-7ba0a956981f",
   "metadata": {},
   "outputs": [
    {
     "data": {
      "text/plain": [
       "{'title': 'What the Heck is System Engineering?',\n",
       " 'date': 'Oct 21, 2021',\n",
       " 'category': 'IT Training',\n",
       " 'content': 'Codeup offers a 13-week training program: Systems Engineering. Designed to help you launch your career in tech, this program takes you from 0 experience to IT hero with certifications and hands-on experience in just weeks. But if you’re new to tech, you might be wondering…what is Systems Engineering? What is Systems Engineering? In IT terms, a Systems Engineer (Sysadmin or Sysad for short) is responsible for the configuration, upkeep, and operation of computer systems. They manage things like security, storage, automation, troubleshooting, and a whole lot more. For example, some of the day to day tasks include things like:  Reviewing system logs for anomalies and issues Updating operating systems (OS) Installing new hardware and software Managing user accounts Documenting information about the system setup Managing file systems  You might be thinking, “Woah, that looks like a lot!” and that’s because it is! A Systems Engineer is a critical piece of IT infrastructure. And in today’s digital age, all companies are IT companies, which means Sysadmins are critical everywhere. You can think of a Sysad as a jack-of-all-trades of what we typically think of as IT. But don’t forget how the old saying actually ends: “A jack of all trades is a master of none, but oftentimes better than a master of none.” So, what are the skills a Sysadmin uses?  Networking – Networking skills include how to configure, maintain, and troubleshoot networks, including using hardware like switches, routers, and firewalls. These skills and concepts are crucial to any systems engineering position. You not only need to understand them but also need some way to prove it. With the Network+ certification, job seekers can come to employers with proof of their networking know-how. Linux- Linux is one of the most popular Operating Systems (OS). It is fully compatible with Mac OS and underpins all Android systems. In fact, the world’s IT infrastructure is run primarily on Linux. Certifications are the primary way technical folks prove their skills and Linux is no different. The CompTIA Linux+ certification is an entry-level certification that proves knowledge and basic technical proficiency in the job role Cloud – This involves using servers and tools (i.e. processing and storage hardware) that are based in a different location, instead of on-site. Our program introduces students to cloud concepts like storage, computing, permissions, and more!  Why Become a Systems Engineer? Now you know what a Sysadmin does and what skills they use. But why become a Sysadmin? The world is increasingly dependent on computer systems and their underlying technologies. Configuring computer software, designing innovative solutions for specific problems, and basic troubleshooting skills are more and more in demand each year.  Without systems engineers, the technical world would stop innovating and become stagnant.  They are in demand! Companies rely on Sysadmins to keep all their IT running You’ll become a tech guru! You won’t just be the person who can fix the printer. You’ll also be the person who can script, work with servers, navigate AWS Cloud tools, and work on modern web technologies. You can specialize! With the breadth of knowledge you’ll obtain, you can have a specialized career in IT. Just hone in on one of your interests, whether it’s security, cloud, databases, or something that doesn’t even exist yet!  Interested in learning more? Sign up for our Network Fundamentals Crash Course to get a taste for these skills – a $500 value you can get for free!Ready to go all-in? Apply to our 13-week Systems Engineering program where you’ll earn your Network+ and Linux+ certifications, along with skills in AWS, LAMP, Microsoft, and more!'}"
      ]
     },
     "execution_count": 13,
     "metadata": {},
     "output_type": "execute_result"
    }
   ],
   "source": [
    "#Test function\n",
    "parse_blog(url3)"
   ]
  },
  {
   "cell_type": "code",
   "execution_count": 14,
   "id": "567d75a9-a683-4a7d-8194-feb2669749f5",
   "metadata": {},
   "outputs": [],
   "source": [
    "## Create a function that can scrape articles from the codeup blog page and return a list of dictionaries\n",
    "\n",
    "def get_blog_articles(urls):\n",
    "    \"\"\"\n",
    "    This function takes in a list of urls for Codeup blog articles. It loops through each, and uses the parse_blog() function to get the title,\n",
    "    publishing date, category, and article content and create a dictionaries that are placed into a list. It returns a list of dictionaries.\n",
    "    \"\"\"\n",
    "  \n",
    "    output = []\n",
    "    \n",
    "    for url in urls:\n",
    "        output.append(parse_blog(url))\n",
    "    \n",
    "    return output\n",
    "    \n",
    "    "
   ]
  },
  {
   "cell_type": "code",
   "execution_count": 15,
   "id": "5568e611-4971-4f30-8ec6-7933e3ca2696",
   "metadata": {},
   "outputs": [
    {
     "data": {
      "text/plain": [
       "['https://codeup.com/cybersecurity/a-rise-in-cyber-attacks-means-opportunities-for-veterans-in-san-antonio/',\n",
       " 'https://codeup.com/it-training/it-certifications-101/',\n",
       " 'https://codeup.com/it-training/what-the-heck-is-system-engineering/',\n",
       " 'https://codeup.com/codeup-news/is-codeup-the-best-bootcamp-in-san-antonio-or-the-world/',\n",
       " 'https://codeup.com/workshops/from-bootcamp-to-bootcamp-a-military-appreciation-panel/']"
      ]
     },
     "execution_count": 15,
     "metadata": {},
     "output_type": "execute_result"
    }
   ],
   "source": [
    "# Define my list of urls\n",
    "urls = [url1, url2, url3, url4, url5]\n",
    "urls"
   ]
  },
  {
   "cell_type": "code",
   "execution_count": 16,
   "id": "602dd1de-c59f-4ec7-b8c7-6e829ba1111d",
   "metadata": {},
   "outputs": [
    {
     "data": {
      "text/plain": [
       "[{'title': 'A rise in cyber attacks means opportunities for veterans in San Antonio',\n",
       "  'date': 'Nov 17, 2021',\n",
       "  'category': 'Cybersecurity',\n",
       "  'content': 'In the last few months, the US has experienced dozens of major cyberattacks against leading organizations like Accenture, the NBA, and Kia Motors. Similar attacks are on the rise. This year, 38% more companies have experienced cyber attacks as compared to last year. Often, they involve a ransom payment in order to re-access stolen files. The amount paid by these victims has increased by 300%. In our headquarters of San Antonio, Texas, even local organizations are at risk. Recently, Judson ISD paid a $500,000 ransom. In 2020, there were over 300,000 open roles for cybersecurity professionals in the US. To add to that, the US Bureau of Labor Statistics predicts a 31% increase in Information Security roles in the upcoming years. As attacks are on the rise, the demand for cybersecurity professionals is quickly increasing. But with so many open roles, the issue isn’t demand – it’s supply. Luckily, San Antonio is already a national leader in cybersecurity. We have over 16,000 employees in the field, which is the most certified cyber professionals outside of D.C.. With industry giants like USAA and Lockheed Martin in the city, we have a good footing over much of the country. Moreover, San Antonio is Military City, USA. We’re home to one of the largest populations of bases, veterans, and active service members in the country. With both these backgrounds, the city is well-positioned to continue to lead our country’s defense – not just traditionally, but in cyber warfare as well.  But we still need more help. What can we do about it? Train more cybersecurity professionals. Organizations like Project Quest have supported cybersecurity training for years. But we can’t rely solely on non-profit funding. There are plenty of opportunities for veterans to enter the field with VA benefits. Training programs like Codeup Cloud Academy are approved to accept GI Bill® and Vocational Rehab. This allows veterans to receive housing support while getting the cybersecurity training they need in our Cyber Cloud program. Want to keep San Antonio safe and positioned as a leader in Cybersecurity? Help us train the next generation of cybersecurity professionals! Connect us with veterans in your network so we can all help continue San Antonio’s tradition of protecting our city and country!'},\n",
       " {'title': 'IT Certifications 101: Why They Matter, and Why They Don’t',\n",
       "  'date': 'Nov 18, 2021',\n",
       "  'category': 'IT Training',\n",
       "  'content': 'AWS, Google, Azure, Red Hat, CompTIA…these are big names in IT! And not only for their products, but also for the certifications they offer. If you’re new to tech, you might be wondering: Do certifications really matter? Welcome to IT Certifications 101! What’s the tl;dr? Certifications are critical to getting past HR for certain roles, but they won’t get you the job. What are IT Certifications? Certifications are official credentials given by companies, institutions, and vendors to verify that you have demonstrated a specific knowledge or skill. They are a stamp of approval from a known brand (like Amazon) saying “This person knows their stuff.” Certs are used in a lot of industries, including technology. Even within tech, there are dozens of vendors and hundreds of certs. Why do IT Certifications matter to employers? Many roles (including security, system administration, and networking) require certain certs to make it in the door of an interview process. This filter matters for several reasons: it helps narrow down the pool of applicants, it establishes a baseline of shared knowledge or experience across all applicants, and it expedites the process so that employers don’t have to spend as much time vetting basic technical skills.      Why do they matter to you? Obtaining certs in IT will provide you with a number of benefits:  You will show up in recruiter searches on LinkedIn! You can follow specific, concrete paths for your career development You obtain industry-recognized, respected, and transferable credentials relevant for your whole career You develop relevant and broad-base content knowledge You will be able to pass initial HR screenings and land a seat in the interview  Why DON’T they matter to employers and you? At the end of the day, certifications are just pieces of paper. They represent your ability to pass a test, not to do a job. Sometimes those things are one and the same, but usually, they are very different. Certifications are like the entrance fee to get into a tournament: you still need to fight your way to the top. And when you’re standing in the ring, it’s better to know how to fight than to have a degree in fighting. Additionally, not all jobs within tech care about certifications at all. For example, there is technically a Java programming certification from Oracle, but it’s almost never required or considered for job applications because it tests very specific, abnormal, and academic concepts that don’t apply to most real-world software development. If Certs matter AND don’t matter, what do I do? At Codeup, we like to think of our IT training as CertificationsPLUS, as in – you get certifications PLUS hands-on experience. Here’s a quick way to think about it: Amazon Web Services has basic certifications called Cloud Practitioner and Solutions Architect Associate. The official Amazon training for these certs is 1 week: 4 days of training and 1 day of exam readiness. The 1-week schedule will present to you mostly everything you need to pass the certification exam, and then it’s on you to go cram and memorize to get ready. Once you pass, you’ll have the cert, but you’ll be a paper tiger: all bark and no bite. In other words, you’ll appear knowledgeable and skillful on paper, but in reality, you won’t have any experience or know-how for completing the real work. Alternatively, Codeup spends 5 weeks on AWS, combining exam study and hands-on practice. That way, you can talk the talk and walk the walk. If you want to learn more about IT certification and training paths, reach out to us at info@codeup.com!'},\n",
       " {'title': 'What the Heck is System Engineering?',\n",
       "  'date': 'Oct 21, 2021',\n",
       "  'category': 'IT Training',\n",
       "  'content': 'Codeup offers a 13-week training program: Systems Engineering. Designed to help you launch your career in tech, this program takes you from 0 experience to IT hero with certifications and hands-on experience in just weeks. But if you’re new to tech, you might be wondering…what is Systems Engineering? What is Systems Engineering? In IT terms, a Systems Engineer (Sysadmin or Sysad for short) is responsible for the configuration, upkeep, and operation of computer systems. They manage things like security, storage, automation, troubleshooting, and a whole lot more. For example, some of the day to day tasks include things like:  Reviewing system logs for anomalies and issues Updating operating systems (OS) Installing new hardware and software Managing user accounts Documenting information about the system setup Managing file systems  You might be thinking, “Woah, that looks like a lot!” and that’s because it is! A Systems Engineer is a critical piece of IT infrastructure. And in today’s digital age, all companies are IT companies, which means Sysadmins are critical everywhere. You can think of a Sysad as a jack-of-all-trades of what we typically think of as IT. But don’t forget how the old saying actually ends: “A jack of all trades is a master of none, but oftentimes better than a master of none.” So, what are the skills a Sysadmin uses?  Networking – Networking skills include how to configure, maintain, and troubleshoot networks, including using hardware like switches, routers, and firewalls. These skills and concepts are crucial to any systems engineering position. You not only need to understand them but also need some way to prove it. With the Network+ certification, job seekers can come to employers with proof of their networking know-how. Linux- Linux is one of the most popular Operating Systems (OS). It is fully compatible with Mac OS and underpins all Android systems. In fact, the world’s IT infrastructure is run primarily on Linux. Certifications are the primary way technical folks prove their skills and Linux is no different. The CompTIA Linux+ certification is an entry-level certification that proves knowledge and basic technical proficiency in the job role Cloud – This involves using servers and tools (i.e. processing and storage hardware) that are based in a different location, instead of on-site. Our program introduces students to cloud concepts like storage, computing, permissions, and more!  Why Become a Systems Engineer? Now you know what a Sysadmin does and what skills they use. But why become a Sysadmin? The world is increasingly dependent on computer systems and their underlying technologies. Configuring computer software, designing innovative solutions for specific problems, and basic troubleshooting skills are more and more in demand each year.  Without systems engineers, the technical world would stop innovating and become stagnant.  They are in demand! Companies rely on Sysadmins to keep all their IT running You’ll become a tech guru! You won’t just be the person who can fix the printer. You’ll also be the person who can script, work with servers, navigate AWS Cloud tools, and work on modern web technologies. You can specialize! With the breadth of knowledge you’ll obtain, you can have a specialized career in IT. Just hone in on one of your interests, whether it’s security, cloud, databases, or something that doesn’t even exist yet!  Interested in learning more? Sign up for our Network Fundamentals Crash Course to get a taste for these skills – a $500 value you can get for free!Ready to go all-in? Apply to our 13-week Systems Engineering program where you’ll earn your Network+ and Linux+ certifications, along with skills in AWS, LAMP, Microsoft, and more!'},\n",
       " {'title': 'Is Codeup the Best Bootcamp in San Antonio…or the World?',\n",
       "  'date': 'Sep 16, 2021',\n",
       "  'category': 'Codeup News',\n",
       "  'content': 'Looking for the best data science bootcamp in the world? Or how about the best coding bootcamp in San Antonio? If you’re reading this, you’ve found both! We are thrilled to announce that Codeup has been chosen as a Best Data Science Bootcamp of 2021 by Course Report, and a Best San Antonio Coding Bootcamp 2021 by Career Karma. Best Data Science Bootcamp in the World Course Report is a leading authority in ranking and reviewing bootcamps. Every year, they compile a list of the Best Data Science Bootcamps in the world. Codeup made the 2021 list, along with 21 other bootcamps, for our Data Science program. Why? Course Report considers alumni and student reviews, financing options, outcome transparency, and duration of the program. More on how Codeup performs in each of those categories below! Best Coding Bootcamp in San Antonio The folks at Career Karma are experts on what the best bootcamps are for various tech careers. They’ve recently identified the 10 Best Coding Bootcamps in San Antonio in 2021 with Codeup in the top 5 for our Web Development program. Also on the list is Open Cloud Academy, which is now Codeup Cloud Academy (CCA), owned and operated by us. The CCA programs recognized are cybersecurity and Systems Engineering. Why Codeup? Here are a few reasons why Codeup is one of the best bootcamps in San Antonio and the world: \\u3000\\u3000• Students and alumni gave an average rating of 4.69 stars on Course Report\\u3000\\u3000• 6 financing partners believe in our program so much that they offer aid to our students, including VA benefits for our veterans\\u3000\\u3000• Data Science grads earn a median starting salary of about $70,000 with high placement rates \\u3000\\u3000• Web Development grads earn a median starting salary that’s above the local, state, and nationwide averages for entry-level developers at about $45,500\\u3000\\u3000• The intensive programs need 22 weeks (5-6 months) to cover a robust curriculum that’s catered to employers\\u3000\\u3000• The instructors have decades of prior industry experience and are invested in each student’s learning and success These awards are huge for the security and confidence they provide our students and employer partners. If you’re an employer looking to hire from the best bootcamp, now you know where to find high-quality talent. If you’re interested in a career change into tech, now you know where to apply to get the best experience.  Special shoutouts are in order to every single person on our incredible staff. It is an honor to be recognized not just locally, but globally! If you’d like to work at an award-winning institution, now you know where you can join a well-oiled machine and make a huge impact. We’re hiring!'},\n",
       " {'title': 'From Bootcamp to Bootcamp | A Military Appreciation Panel',\n",
       "  'date': 'Apr 27, 2022',\n",
       "  'category': 'Alumni Stories',\n",
       "  'content': 'In honor of Military Appreciation Month, join us for a discussion with Codeup Alumni who are also Military Veterans! We will chat about their experiences attending a coding bootcamp, and how their military training set them up for success here at Codeup. Grab your virtual seat now so you can be sent the exclusive Livestream link on the 11th!  Thank you to our panelists for participating:   Christopher Aguirre Taryn McKenzie  Desiree McElroy    And thanks to Codeup’s Trey Iapachino who is also an Air Force Veteran!'}]"
      ]
     },
     "execution_count": 16,
     "metadata": {},
     "output_type": "execute_result"
    }
   ],
   "source": [
    "# Test my final function \n",
    "get_blog_articles(urls)"
   ]
  },
  {
   "cell_type": "markdown",
   "id": "10d9771a-02a7-467d-a921-0df6133630c9",
   "metadata": {},
   "source": [
    "**2) News Articles**\n",
    "\n",
    "We will now be scraping text data from inshorts, a website that provides a brief overview of many different topics.\n",
    "\n",
    "Write a function that scrapes the news articles for the following topics:\n",
    "\n",
    "- Business\n",
    "- Sports\n",
    "- Technology\n",
    "- Entertainment\n",
    "The end product of this should be a function named get_news_articles that returns a list of dictionaries, where each dictionary has this shape:"
   ]
  },
  {
   "cell_type": "code",
   "execution_count": 17,
   "id": "d1b478d7-dd7c-4c1b-99f8-b652d1f5b7f6",
   "metadata": {},
   "outputs": [
    {
     "data": {
      "text/plain": [
       "{'title': 'The article title',\n",
       " 'content': 'The article content',\n",
       " 'category': 'business'}"
      ]
     },
     "execution_count": 17,
     "metadata": {},
     "output_type": "execute_result"
    }
   ],
   "source": [
    "{\n",
    "    'title': 'The article title',\n",
    "    'content': 'The article content',\n",
    "    'category': 'business' # for example\n",
    "}\n"
   ]
  },
  {
   "cell_type": "code",
   "execution_count": 18,
   "id": "0ee3a88d-d1a7-4e80-a7f5-ec483885a621",
   "metadata": {},
   "outputs": [],
   "source": [
    "#Define individual news category urls\n",
    "\n",
    "url1 = 'https://inshorts.com/en/read/business'\n",
    "url2 = 'https://inshorts.com/en/read/sports'\n",
    "url3 = 'https://inshorts.com/en/read/technology'\n",
    "url4 = 'https://inshorts.com/en/read/entertainment'\n",
    "\n",
    "#make a list of all these urls\n",
    "urls = [url1, url2, url3, url4]"
   ]
  },
  {
   "cell_type": "markdown",
   "id": "2dbcc57b-9297-4e2e-a039-5a591b5f78b5",
   "metadata": {},
   "source": [
    "**Focus on single news article**"
   ]
  },
  {
   "cell_type": "code",
   "execution_count": 19,
   "id": "998504ab-ad5b-4508-a379-98d250a6b6d2",
   "metadata": {},
   "outputs": [
    {
     "data": {
      "text/plain": [
       "<Response [200]>"
      ]
     },
     "execution_count": 19,
     "metadata": {},
     "output_type": "execute_result"
    }
   ],
   "source": [
    "headers = {'User-Agent': 'Codeup Data Science'}\n",
    "response = get(url1, headers=headers)\n",
    "response"
   ]
  },
  {
   "cell_type": "code",
   "execution_count": 20,
   "id": "ab09ffe6-87de-4613-8d81-fea493ee32cf",
   "metadata": {},
   "outputs": [],
   "source": [
    "soup = BeautifulSoup(response.content, 'html.parser')"
   ]
  },
  {
   "cell_type": "code",
   "execution_count": 21,
   "id": "819af339-920d-4050-9dc0-318939255d63",
   "metadata": {},
   "outputs": [],
   "source": [
    "#Find the title of the first article on the page\n",
    "cards = soup.find('div', class_ = 'card-stack')"
   ]
  },
  {
   "cell_type": "code",
   "execution_count": 22,
   "id": "893d2b90-ca6f-49a6-8cfd-93c319a6947b",
   "metadata": {},
   "outputs": [],
   "source": [
    "articles = cards.find_all('div', class_ = 'news-card')\n",
    "article = articles[0]"
   ]
  },
  {
   "cell_type": "code",
   "execution_count": 23,
   "id": "38bcbb35-0a21-407e-8d50-7859d3ad5da7",
   "metadata": {},
   "outputs": [
    {
     "data": {
      "text/plain": [
       "<div class=\"news-card z-depth-1\" itemscope=\"\" itemtype=\"http://schema.org/NewsArticle\">\n",
       "<span content=\"\" itemid=\"https://inshorts.com/en/news/rupee-hits-alltime-low-of-7742-against-us-dollar-1652072731191\" itemprop=\"mainEntityOfPage\" itemscope=\"\" itemtype=\"https://schema.org/WebPage\"></span>\n",
       "<span itemprop=\"author\" itemscope=\"itemscope\" itemtype=\"https://schema.org/Person\">\n",
       "<span content=\"Apaar Sharma\" itemprop=\"name\"></span>\n",
       "</span>\n",
       "<span content=\"Rupee hits all-time low of 77.42 against US dollar\" itemprop=\"description\"></span>\n",
       "<span itemprop=\"image\" itemscope=\"\" itemtype=\"https://schema.org/ImageObject\">\n",
       "<meta content=\"https://static.inshorts.com/inshorts/images/v1/variants/jpg/m/2022/05_may/9_mon/img_1652069995949_352.jpg?\" itemprop=\"url\"/>\n",
       "<meta content=\"864\" itemprop=\"width\"/>\n",
       "<meta content=\"483\" itemprop=\"height\"/>\n",
       "</span>\n",
       "<span itemprop=\"publisher\" itemscope=\"itemscope\" itemtype=\"https://schema.org/Organization\">\n",
       "<span content=\"https://inshorts.com/\" itemprop=\"url\"></span>\n",
       "<span content=\"Inshorts\" itemprop=\"name\"></span>\n",
       "<span itemprop=\"logo\" itemscope=\"\" itemtype=\"https://schema.org/ImageObject\">\n",
       "<span content=\"https://assets.inshorts.com/inshorts/images/v1/variants/jpg/m/2018/11_nov/21_wed/img_1542823931298_497.jpg\" itemprop=\"url\"></span>\n",
       "<meta content=\"400\" itemprop=\"width\"/>\n",
       "<meta content=\"60\" itemprop=\"height\"/>\n",
       "</span>\n",
       "</span>\n",
       "<div class=\"news-card-image\" style=\"background-image: url('https://static.inshorts.com/inshorts/images/v1/variants/jpg/m/2022/05_may/9_mon/img_1652069995949_352.jpg?')\">\n",
       "</div>\n",
       "<div class=\"news-card-title news-right-box\">\n",
       "<a class=\"clickable\" href=\"/en/news/rupee-hits-alltime-low-of-7742-against-us-dollar-1652072731191\" onclick=\"track_GA_Mixpanel({'hitType': 'event', 'category': 'TitleOfNews', 'action': 'clicked', 'label': 'Rupee%20hits%20all-time%20low%20of%2077.42%20against%20US%20dollar)' });\" style=\"color:#44444d!important\">\n",
       "<span itemprop=\"headline\">Rupee hits all-time low of 77.42 against US dollar</span>\n",
       "</a>\n",
       "<div class=\"news-card-author-time news-card-author-time-in-title\">\n",
       "<a href=\"/prev/en/news/rupee-hits-alltime-low-of-7742-against-us-dollar-1652072731191\"><span class=\"short\">short</span></a> by <span class=\"author\">Apaar Sharma</span> / \n",
       "      <span class=\"time\" content=\"2022-05-09T05:05:31.000Z\" itemprop=\"datePublished\">10:35 am</span> on <span clas=\"date\">09 May 2022,Monday</span>\n",
       "</div>\n",
       "</div>\n",
       "<div class=\"news-card-content news-right-box\">\n",
       "<div itemprop=\"articleBody\">The Indian rupee fell to an all-time low of 77.42 against the US dollar on Monday, Reuters reported. Asian markets were lower on Monday as US stock futures fell on fears of more policy tightening from the Federal Reserve and strict lockdown in Shanghai impacting global growth, according to Reuters.</div>\n",
       "<div class=\"news-card-author-time news-card-author-time-in-content\">\n",
       "<a href=\"/prev/en/news/rupee-hits-alltime-low-of-7742-against-us-dollar-1652072731191\"><span class=\"short\">short</span></a> by <span class=\"author\">Apaar Sharma</span> / \n",
       "      <span class=\"time\" content=\"2022-05-09T05:05:31.000Z\" itemprop=\"dateModified\">10:35 am</span> on <span class=\"date\">09 May</span>\n",
       "</div>\n",
       "</div>\n",
       "<div class=\"news-card-footer news-right-box\">\n",
       "<div class=\"read-more\">read more at <a class=\"source\" href=\"https://www.moneycontrol.com/news/business/markets/share-market-live-updates-stock-market-today-may-9-latest-news-bse-nse-sensex-nifty-covid-coronavirus-upl-pvr-godrej-agrovet-infibeam-avenues-dalmia-bharat-reliance-industries-campus-activewear-8473521.html/amp?utm_campaign=fullarticle&amp;utm_medium=referral&amp;utm_source=inshorts \" onclick=\"track_GA_Mixpanel({'hitType': 'event', 'category': 'ReadMore', 'action': 'clicked', 'label': 'Moneycontrol' });\" target=\"_blank\">Moneycontrol</a></div>\n",
       "</div>\n",
       "</div>"
      ]
     },
     "execution_count": 23,
     "metadata": {},
     "output_type": "execute_result"
    }
   ],
   "source": [
    "article"
   ]
  },
  {
   "cell_type": "code",
   "execution_count": 24,
   "id": "81a6755d-08c9-4b5b-89e4-1b9221aba147",
   "metadata": {},
   "outputs": [
    {
     "data": {
      "text/plain": [
       "'Rupee hits all-time low of 77.42 against US dollar'"
      ]
     },
     "execution_count": 24,
     "metadata": {},
     "output_type": "execute_result"
    }
   ],
   "source": [
    "#Find the title of the first article on the page\n",
    "title = article.find('span', itemprop = 'headline').text\n",
    "title"
   ]
  },
  {
   "cell_type": "code",
   "execution_count": 25,
   "id": "83885a81-1e85-4b19-8fbf-c19c8cfd25a0",
   "metadata": {},
   "outputs": [
    {
     "data": {
      "text/plain": [
       "'Apaar Sharma'"
      ]
     },
     "execution_count": 25,
     "metadata": {},
     "output_type": "execute_result"
    }
   ],
   "source": [
    "#Find the author of the first article\n",
    "author = article.find('span', class_ = 'author').text\n",
    "author"
   ]
  },
  {
   "cell_type": "code",
   "execution_count": 26,
   "id": "08f628a2-41fb-48ed-bf3e-58ae325b86fc",
   "metadata": {},
   "outputs": [
    {
     "data": {
      "text/plain": [
       "'09 May 2022'"
      ]
     },
     "execution_count": 26,
     "metadata": {},
     "output_type": "execute_result"
    }
   ],
   "source": [
    "#Find the publication date\n",
    "date = article.find('span', clas = 'date').text.split(',')[0]\n",
    "date"
   ]
  },
  {
   "cell_type": "code",
   "execution_count": 27,
   "id": "f432efae-9ff8-4434-a03a-5d339d544159",
   "metadata": {},
   "outputs": [
    {
     "data": {
      "text/plain": [
       "'The Indian rupee fell to an all-time low of 77.42 against the US dollar on Monday, Reuters reported. Asian markets were lower on Monday as US stock futures fell on fears of more policy tightening from the Federal Reserve and strict lockdown in Shanghai impacting global growth, according to Reuters.'"
      ]
     },
     "execution_count": 27,
     "metadata": {},
     "output_type": "execute_result"
    }
   ],
   "source": [
    "#Find the article content\n",
    "content = article.find('div', itemprop = 'articleBody').text\n",
    "content"
   ]
  },
  {
   "cell_type": "code",
   "execution_count": 28,
   "id": "20e4e60d-15a2-49b5-b35e-da613c4a0db9",
   "metadata": {},
   "outputs": [],
   "source": [
    "## Create function that creates a dictionary out of a single article on an inshorts.com page\n",
    "\n",
    "def parse_news_article(article, category):\n",
    "    output = {}\n",
    "\n",
    "    output['category'] = category\n",
    "    output['title'] = article.find('span', itemprop = 'headline').text.strip()\n",
    "    output['author'] = article.find('span', class_ = 'author').text\n",
    "    output['date'] = article.find('span', clas = 'date').text.split(',')[0]\n",
    "    output['content'] = article.find('div', itemprop = 'articleBody').text\n",
    "\n",
    "    return output"
   ]
  },
  {
   "cell_type": "code",
   "execution_count": 29,
   "id": "d04ee0c4-f888-4717-99cc-3b23f35043b0",
   "metadata": {},
   "outputs": [
    {
     "data": {
      "text/plain": [
       "{'category': 'business',\n",
       " 'title': 'Rupee hits all-time low of 77.42 against US dollar',\n",
       " 'author': 'Apaar Sharma',\n",
       " 'date': '09 May 2022',\n",
       " 'content': 'The Indian rupee fell to an all-time low of 77.42 against the US dollar on Monday, Reuters reported. Asian markets were lower on Monday as US stock futures fell on fears of more policy tightening from the Federal Reserve and strict lockdown in Shanghai impacting global growth, according to Reuters.'}"
      ]
     },
     "execution_count": 29,
     "metadata": {},
     "output_type": "execute_result"
    }
   ],
   "source": [
    "# Test it \n",
    "parse_news_article(article, 'business')"
   ]
  },
  {
   "cell_type": "code",
   "execution_count": 30,
   "id": "989b5ba2-162f-4055-8658-a8b3583e0cd6",
   "metadata": {},
   "outputs": [],
   "source": [
    "# Create function that creates a dictionary out all the articles on a single page \n",
    "\n",
    "def parse_news_page(category):\n",
    "    url = 'https://inshorts.com/en/read/' + category\n",
    "    response = get(url)\n",
    "    soup = BeautifulSoup(response.text)\n",
    "\n",
    "    cards = soup.select('.news-card')\n",
    "    articles = []\n",
    "\n",
    "    for card in cards:\n",
    "        articles.append(parse_news_article(card, category))\n",
    "\n",
    "    return articles\n"
   ]
  },
  {
   "cell_type": "code",
   "execution_count": 31,
   "id": "e351b69f-786f-447b-82cf-0b6c6b246453",
   "metadata": {},
   "outputs": [
    {
     "data": {
      "text/plain": [
       "[{'category': 'business',\n",
       "  'title': 'Rupee hits all-time low of 77.42 against US dollar',\n",
       "  'author': 'Apaar Sharma',\n",
       "  'date': '09 May 2022',\n",
       "  'content': 'The Indian rupee fell to an all-time low of 77.42 against the US dollar on Monday, Reuters reported. Asian markets were lower on Monday as US stock futures fell on fears of more policy tightening from the Federal Reserve and strict lockdown in Shanghai impacting global growth, according to Reuters.'},\n",
       " {'category': 'business',\n",
       "  'title': 'Bitcoin falls to the lowest level since January, trades below $34,000',\n",
       "  'author': 'Pragya Swastik',\n",
       "  'date': '09 May 2022',\n",
       "  'content': \"Bitcoin fell on Monday to as low as $33,266 in morning trade, nearing January's low of $32,951 as slumping equity markets continued to hurt cryptocurrencies. It then steadied to trade above $33,600. According to BBC, the world's largest cryptocurrency has fallen by 50% since its peak in November 2021.\"},\n",
       " {'category': 'business',\n",
       "  'title': 'Rupee closes at all-time low of 77.50 against US dollar',\n",
       "  'author': 'Pragya Swastik',\n",
       "  'date': '09 May 2022',\n",
       "  'content': 'The Indian rupee weakened further on Monday to close at a new all-time low of 77.50 against the US dollar, 60 paise over its previous close. During the trading session, the rupee touched its lifetime low of 77.52. The currency was weighed down by elevated crude oil prices and a widening trade deficit.'},\n",
       " {'category': 'business',\n",
       "  'title': 'Made best possible decision: IndiGo on barring differently-abled child from flight',\n",
       "  'author': 'Pragya Swastik',\n",
       "  'date': '09 May 2022',\n",
       "  'content': 'IndiGo\\'s CEO Ronojoy Dutta said the airline made \"the best possible decision\" by barring a differently-abled teenager and his family from boarding a Ranchi-Hyderabad flight. \"At boarding area, the teenager was visibly in panic...the airport staff, in line with safety guidelines, were forced to make a difficult decision,\" Dutta said. IndiGo offered to purchase an electric wheelchair for the child. '},\n",
       " {'category': 'business',\n",
       "  'title': \"India's biggest IPO of LIC subscribed nearly 3 times on final day of bidding\",\n",
       "  'author': 'Pragya Swastik',\n",
       "  'date': '09 May 2022',\n",
       "  'content': \"LIC's IPO, India's biggest IPO which opened on May 4 and closed on May 9, was subscribed 2.95 times on Monday. Expected to raise ₹20,557 crore, the IPO received bids for 47.83 crore equity shares against the IPO size of 16.2 crore shares. The policyholders' portion was subscribed 6.11 times, employees bid 4.39 times and retail investors bid 1.99 times.\\n\\n\"},\n",
       " {'category': 'business',\n",
       "  'title': \"I will do my best to stay alive: Musk to his mother after 'mysterious dying' tweet\",\n",
       "  'author': 'Ridham Gambhir',\n",
       "  'date': '09 May 2022',\n",
       "  'content': 'Soon after Tesla CEO Elon Musk shared a tweet about his \"mysterious death\", his mother Maye Musk commented that it wasn\\'t funny. Responding to her, Musk wrote, \"Sorry! I will do my best to stay alive.\" Musk\\'s \\'dying\\' tweet came after he shared a statement by the Roscosmos director that threatened him for supplying \"fascist forces\" to Ukraine. '},\n",
       " {'category': 'business',\n",
       "  'title': 'If I die under mysterious circumstances, nice knowing ya: Musk after Russian threats',\n",
       "  'author': 'Ridham Gambhir',\n",
       "  'date': '09 May 2022',\n",
       "  'content': 'Tesla CEO Elon Musk has tweeted, \"If I die under mysterious circumstances, it\\'s been nice knowing ya.\" Shortly before this, Musk shared a post that he said was a statement by the Roscosmos director Dmitry Olegovich Rogozin to Russian media that accused Musk of supplying \"fascist forces in Ukraine\". \"Elon, you\\'ll be held accountable like an adult,\" the statement read.\\n'},\n",
       " {'category': 'business',\n",
       "  'title': 'Japan will cease to exist, Venice dying due to very low birth rates: Musk',\n",
       "  'author': 'Pragya Swastik',\n",
       "  'date': '09 May 2022',\n",
       "  'content': 'The world\\'s richest man Elon Musk recently tweeted, \"At the risk of stating the obvious, unless something changes to cause the birth rate to exceed the death rate, Japan will eventually cease to exist.\" He added, \"This would be a great loss for the world.\" In another tweet, Musk said, \"Venice is slowly dying due to very low birth rates.\"'},\n",
       " {'category': 'business',\n",
       "  'title': \"Uber will treat hiring as a 'privilege' to cut costs: CEO\",\n",
       "  'author': 'Pragya Swastik',\n",
       "  'date': '09 May 2022',\n",
       "  'content': 'Uber CEO Dara Khosrowshahi told employees in an e-mail that the company needs to cut costs, citing \"the market is experiencing a seismic shift\", CNBC reported. \"We\\'ll treat hiring as a privilege and be deliberate about when and where we add headcount,\" the CEO said. \"We have to make sure our unit economics work before we go big,\" he added.'},\n",
       " {'category': 'business',\n",
       "  'title': 'Investigating it myself: Scindia after IndiGo denies boarding to differently-abled child',\n",
       "  'author': 'Ridham Gambhir',\n",
       "  'date': '09 May 2022',\n",
       "  'content': 'Union Civil Aviation Minister Jyotiraditya Scindia said he is investigating the matter himself wherein IndiGo denied boarding to a differently-abled child at the Ranchi airport. He added that appropriate action will also be taken. A social media post along with a video of the incident went viral on Sunday after it detailed how IndiGo staff denied boarding to the child.\\n'},\n",
       " {'category': 'business',\n",
       "  'title': 'GST Council may consider highest 28% tax on cryptocurrencies: Report',\n",
       "  'author': 'Ridham Gambhir',\n",
       "  'date': '09 May 2022',\n",
       "  'content': 'The GST Council is considering levying a 28% tax on cryptocurrencies and their related services, as per a report. While the proposal is likely to be discussed in the next GST Council meeting, its date is yet to be decided. Notably, the Finance Ministry has already imposed a 30% income tax on earnings from virtual digital asset transactions.'},\n",
       " {'category': 'business',\n",
       "  'title': 'British airline EasyJet to take out seats from planes so it can fly with fewer crew',\n",
       "  'author': 'Ridham Gambhir',\n",
       "  'date': '09 May 2022',\n",
       "  'content': 'British low-cost airline EasyJet plans to remove seats on some of its planes so it can operate flights with fewer cabin crew. The airline, which has been facing a staff shortage, is cancelling around 30 flights daily. It will be removing the back row from 60 of its A319 jets, which will limit the passengers to 150 instead of 156.'},\n",
       " {'category': 'business',\n",
       "  'title': 'US imposes new sanctions on 27 Gazprombank, 8 Sberbank executives',\n",
       "  'author': 'Ashley Paul',\n",
       "  'date': '08 May 2022',\n",
       "  'content': \"The US on Sunday imposed new sanctions against three Russian television stations and banned 27 executives from Gazprombank in response to Ukraine's invasion of Russia. This is the first time that the US has imposed sanctions involving Russian gas exporter Gazprombank. The new sanctions also included eight executives from Sberbank, and Moscow Industrial Bank and its 10 subsidiaries.\"},\n",
       " {'category': 'business',\n",
       "  'title': 'Rupee is in ICU under PM Modi: Cong after rupee hits all-time low',\n",
       "  'author': 'Ashley Paul',\n",
       "  'date': '09 May 2022',\n",
       "  'content': 'Congress leader Randeep Surjewala on Monday said the Indian rupee \"is in ICU (intensive care unit)\" under PM Narendra Modi\\'s government after the rupee fell to an all-time low of ₹77.42 against the US dollar. Surjewala said rising inflation and depleting foreign reserves are causing the rupee to fall. \"BJP-sponsored\" communal tension is also responsible for the fall, he added.'},\n",
       " {'category': 'business',\n",
       "  'title': 'Paytm grants 39.7 lakh ESOPs to employees as its share price falls',\n",
       "  'author': 'Ashley Paul',\n",
       "  'date': '09 May 2022',\n",
       "  'content': \"Paytm-parent One97 Communications has granted 39.7 lakh new employee stock ownership plans (ESOPs) to its employees as Paytm's share price fell to one of its lowest levels since November. The exercise price of the new ESOPs has been set at ₹9 each. As per Paytm's stock price on Monday, the value of the ESOPs is estimated to be ₹220.7 crore.\"},\n",
       " {'category': 'business',\n",
       "  'title': 'Toyota to invest ₹4,800 cr in Karnataka, will create 3,500 jobs',\n",
       "  'author': 'Ananya Goyal',\n",
       "  'date': '09 May 2022',\n",
       "  'content': \"The Toyota Group has signed an MoU with the Karnataka government for a ₹4,800 crore investment in the state. As per the company's statement, the investment aims to promote green technology and set up local manufacturing facilities to build electric powertrain parts and components. The move will generate around 3,500 direct jobs, said Toyota Kirloskar Motor's Executive VP Vikram Gulati. \"},\n",
       " {'category': 'business',\n",
       "  'title': 'Retail investors have become shock absorbers in equities: FM',\n",
       "  'author': 'Ananya Goyal',\n",
       "  'date': '08 May 2022',\n",
       "  'content': 'Finance Minister Nirmala Sitharaman said retail investors have played a key role in the markets in the last two years. \"[They] have shown...what they can do by standing up and becoming shock absorbers, unlike FPIs,\" she stated. Her statement comes as foreign portfolio investors pulled out ₹6,417 crore from the Indian stock markets in the first week of May.'},\n",
       " {'category': 'business',\n",
       "  'title': \"Reliance's shares decline 3% after Q4 results, fall 9.8% in 6 days\",\n",
       "  'author': 'Ashley Paul',\n",
       "  'date': '09 May 2022',\n",
       "  'content': \"Reliance Industries Limited's (RIL) shares declined 3% to ₹2,542.10 in the early hours of trading on Monday after the company's January-March quarter results were declared. RIL's shares have fallen 9.82% since April 29. RIL reported a 22.5% YoY rise in net profit to ₹16,203 crore and a 35% YoY rise in consolidated revenue to ₹2.32 lakh crore in Q4 FY22.\"},\n",
       " {'category': 'business',\n",
       "  'title': 'LIC IPO shares to be allocated on May 12, listing on May 17',\n",
       "  'author': 'Ananya Goyal',\n",
       "  'date': '09 May 2022',\n",
       "  'content': 'Bidders in LIC IPO will be allocated shares on May 12, Department of Investment and Public Asset Management (DIPAM) Secretary Tuhin Kanta Pandey has said. He added that LIC will be listed on stock exchanges on May 17. The IPO, which opened on May 4 and closed on May 9, received 47.83 crore bids against 16.2 crore shares on offer.'},\n",
       " {'category': 'business',\n",
       "  'title': 'Unemployment rate fell from 10.3% to 8.7% in Oct-Dec 2021: NSO',\n",
       "  'author': 'Ananya Goyal',\n",
       "  'date': '08 May 2022',\n",
       "  'content': 'The unemployment rate for people above 15 years in urban areas slipped from 10.3% to 8.7% between October and December 2021, the National Statistical Office (NSO) data revealed on Sunday. Among males, the unemployment rate dipped to 8.3% in October-December 2021 compared to 9.5% a year ago. Meanwhile, among females, the rate fell from 13.1% to 10.5% y-o-y.'},\n",
       " {'category': 'business',\n",
       "  'title': 'LIC IPO booked 1.79 times on Day 5; policyholders booked 5.04 times',\n",
       "  'author': 'Ashley Paul',\n",
       "  'date': '08 May 2022',\n",
       "  'content': \"Life Insurance Corporation's (LIC) public issue was subscribed 1.79 times on the fifth day of bidding on Sunday. The offer has received bids for 29.07 crore equity shares against the IPO size of 16.2 crore equity shares. The policyholder portion was booked 5.04 times, followed by the employee portion, which was booked 3.79 times.\"},\n",
       " {'category': 'business',\n",
       "  'title': 'Deeply distressed with rumour mongering: Axis AMC Founder CEO on alleged scam',\n",
       "  'author': 'Ashley Paul',\n",
       "  'date': '09 May 2022',\n",
       "  'content': 'Axis Asset Management Company (AMC) Founder CEO Rajiv Anand on Monday said he is deeply depressed with rumour mongering regarding allegations that two of fund managers (FMs) at Axis Mutual Fund have been removed from their positions for front-running. \"If there is a problem, we will address it. Do not malign the reputations of the highly skilled professionals,\" Anand said.\\n'},\n",
       " {'category': 'business',\n",
       "  'title': 'NCLT orders insolvency proceedings against Birla Tyres',\n",
       "  'author': 'Ananya Goyal',\n",
       "  'date': '09 May 2022',\n",
       "  'content': 'The National Company Law Tribunal (NCLT) has ordered the initiation of insolvency proceedings against Birla Tyres in a case filed by multi-business chemicals firm SRF. As per SRF, Birla Tyres defaulted on payment of ₹15.84 crore for the supply of tyre cord fabric as of July 8, 2021. NCLT reprimanded Birla Tyres for taking a \"casual attempt\" to seek adjournments.'},\n",
       " {'category': 'business',\n",
       "  'title': \"LIC's public issue has been successful: DIPAM Secretary\",\n",
       "  'author': 'Ashley Paul',\n",
       "  'date': '09 May 2022',\n",
       "  'content': 'Department of Investment and Public Asset Management (DIPAM) Secretary Tuhin Kanta Pandey on Monday said the LIC\\'s IPO offer \"has met with tremendous success\". The LIC IPO, which started on May 4, has been closed today after being oversubscribed 2.95 times. While the policyholder position has been subscribed 6.11 times, the employees portion has been subscribed 4.39 times.'},\n",
       " {'category': 'business',\n",
       "  'title': 'Adani Airports raises $250 million for airports development',\n",
       "  'author': 'Ananya Goyal',\n",
       "  'date': '09 May 2022',\n",
       "  'content': 'Adani Airports has raised $250 million funding from a consortium of Standard Chartered and Barclays Bank with an option to raise another $200 million. The funds raised will be used to scale up the airports business into \"one of the largest airport platforms globally,\" a spokesperson said. Adani Airports manages airports in Mumbai, Ahmedabad, Lucknow, Mangaluru and Jaipur, among others.'}]"
      ]
     },
     "execution_count": 31,
     "metadata": {},
     "output_type": "execute_result"
    }
   ],
   "source": [
    "# Test it \n",
    "parse_news_page('business')"
   ]
  },
  {
   "cell_type": "code",
   "execution_count": 32,
   "id": "2031f211-ee7a-4c86-87ec-34370a5ee439",
   "metadata": {},
   "outputs": [],
   "source": [
    "def get_news_articles(use_cache=True):\n",
    "    if os.path.exists('news_articles.json') and use_cache:\n",
    "        return pd.read_json('news_articles.json')\n",
    "\n",
    "    categories = ['business', 'sports', 'technology', 'entertainment']\n",
    "\n",
    "    articles = []\n",
    "\n",
    "    for category in categories:\n",
    "        print(f'Getting {category} articles')\n",
    "        articles.extend(parse_news_page(category))\n",
    "\n",
    "    df = pd.DataFrame(articles)\n",
    "    df.to_json('news_articles.json', orient='records')\n",
    "    return df"
   ]
  },
  {
   "cell_type": "markdown",
   "id": "ed70f407-123d-430f-bb3a-9d2ced684909",
   "metadata": {},
   "source": [
    "## Test out my acquire.py file"
   ]
  },
  {
   "cell_type": "code",
   "execution_count": 33,
   "id": "19c4525c-7975-4849-b57a-724a7879a730",
   "metadata": {},
   "outputs": [],
   "source": [
    "import acquire as aq"
   ]
  },
  {
   "cell_type": "markdown",
   "id": "a04a2ec8-2eea-4ae5-bf87-c6367ab3e1ef",
   "metadata": {},
   "source": [
    "**Codeup Blog Articles**"
   ]
  },
  {
   "cell_type": "code",
   "execution_count": 34,
   "id": "d877eb9c-254d-4cd7-bd46-a25f03171569",
   "metadata": {},
   "outputs": [
    {
     "data": {
      "text/plain": [
       "['https://codeup.com/workshops/virtual/learn-to-code-python-workshop-on-4-16/',\n",
       " 'https://codeup.com/codeup-news/coming-soon-cloud-administration/',\n",
       " 'https://codeup.com/featured/5-books-every-woman-in-tech-should-read/',\n",
       " 'https://codeup.com/codeup-news/codeup-start-dates-for-march-2022/',\n",
       " 'https://codeup.com/codeup-news/vet-tec-funding-dallas/',\n",
       " 'https://codeup.com/codeup-news/dallas-campus-re-opens-with-new-grant-partner/',\n",
       " 'https://codeup.com/codeup-news/codeups-placement-team-continues-setting-records/',\n",
       " 'https://codeup.com/it-training/it-certifications-101/',\n",
       " 'https://codeup.com/cybersecurity/a-rise-in-cyber-attacks-means-opportunities-for-veterans-in-san-antonio/',\n",
       " 'https://codeup.com/codeup-news/use-your-gi-bill-benefits-to-land-a-job-in-tech/',\n",
       " 'https://codeup.com/tips-for-prospective-students/which-program-is-right-for-me-cyber-security-or-systems-engineering/',\n",
       " 'https://codeup.com/it-training/what-the-heck-is-system-engineering/',\n",
       " 'https://codeup.com/alumni-stories/from-speech-pathology-to-business-intelligence/',\n",
       " 'https://codeup.com/behind-the-billboards/boris-behind-the-billboards/',\n",
       " 'https://codeup.com/codeup-news/is-codeup-the-best-bootcamp-in-san-antonio-or-the-world/']"
      ]
     },
     "execution_count": 34,
     "metadata": {},
     "output_type": "execute_result"
    }
   ],
   "source": [
    "urls = aq.get_blog_urls()\n",
    "urls"
   ]
  },
  {
   "cell_type": "code",
   "execution_count": 35,
   "id": "40ae08ab-5739-4400-8747-47f265b9aa36",
   "metadata": {},
   "outputs": [
    {
     "data": {
      "text/plain": [
       "{'title': 'Learn to Code: Python Workshop on 4/23',\n",
       " 'date': 'Mar 31, 2022',\n",
       " 'category': 'Events',\n",
       " 'content': 'According to LinkedIn, the “#1 Most Promising Job” is data science! But we here at Codeup understand changing careers can be a daunting idea. That’s where our free Learn to Code workshops come in!  On Saturday 4/23 we will be teaching a free Learn to Code workshop on the programming language Python which is one of the major building blocks of Data Science! What is data science? What is Python?  If you’re curious, join for free to learn the basics of Python from our very own instructors and get an introduction to the field of Data Science. This is all done from the comfort of home. Save your seat quickly – our Python workshops are always in high demand!  What you need: 1. Laptop (does not matter what kind). You need to be able to access WiFi and run an internet browser. 2. To RSVP! You can register for the event below!'}"
      ]
     },
     "execution_count": 35,
     "metadata": {},
     "output_type": "execute_result"
    }
   ],
   "source": [
    "aq.parse_blog('https://codeup.com/workshops/virtual/learn-to-code-python-workshop-on-4-16/')"
   ]
  },
  {
   "cell_type": "code",
   "execution_count": 36,
   "id": "1be4a9da-e061-4e60-8bb5-325f8695be1b",
   "metadata": {},
   "outputs": [
    {
     "name": "stdout",
     "output_type": "stream",
     "text": [
      "fetching https://codeup.com/workshops/virtual/learn-to-code-python-workshop-on-4-16/\n",
      "fetching https://codeup.com/codeup-news/coming-soon-cloud-administration/\n",
      "fetching https://codeup.com/featured/5-books-every-woman-in-tech-should-read/\n",
      "fetching https://codeup.com/codeup-news/codeup-start-dates-for-march-2022/\n",
      "fetching https://codeup.com/codeup-news/vet-tec-funding-dallas/\n",
      "fetching https://codeup.com/codeup-news/dallas-campus-re-opens-with-new-grant-partner/\n",
      "fetching https://codeup.com/codeup-news/codeups-placement-team-continues-setting-records/\n",
      "fetching https://codeup.com/it-training/it-certifications-101/\n",
      "fetching https://codeup.com/cybersecurity/a-rise-in-cyber-attacks-means-opportunities-for-veterans-in-san-antonio/\n",
      "fetching https://codeup.com/codeup-news/use-your-gi-bill-benefits-to-land-a-job-in-tech/\n",
      "fetching https://codeup.com/tips-for-prospective-students/which-program-is-right-for-me-cyber-security-or-systems-engineering/\n",
      "fetching https://codeup.com/it-training/what-the-heck-is-system-engineering/\n",
      "fetching https://codeup.com/alumni-stories/from-speech-pathology-to-business-intelligence/\n",
      "fetching https://codeup.com/behind-the-billboards/boris-behind-the-billboards/\n",
      "fetching https://codeup.com/codeup-news/is-codeup-the-best-bootcamp-in-san-antonio-or-the-world/\n"
     ]
    },
    {
     "data": {
      "text/html": [
       "<div>\n",
       "<style scoped>\n",
       "    .dataframe tbody tr th:only-of-type {\n",
       "        vertical-align: middle;\n",
       "    }\n",
       "\n",
       "    .dataframe tbody tr th {\n",
       "        vertical-align: top;\n",
       "    }\n",
       "\n",
       "    .dataframe thead th {\n",
       "        text-align: right;\n",
       "    }\n",
       "</style>\n",
       "<table border=\"1\" class=\"dataframe\">\n",
       "  <thead>\n",
       "    <tr style=\"text-align: right;\">\n",
       "      <th></th>\n",
       "      <th>title</th>\n",
       "      <th>date</th>\n",
       "      <th>category</th>\n",
       "      <th>content</th>\n",
       "    </tr>\n",
       "  </thead>\n",
       "  <tbody>\n",
       "    <tr>\n",
       "      <th>0</th>\n",
       "      <td>Learn to Code: Python Workshop on 4/23</td>\n",
       "      <td>Mar 31, 2022</td>\n",
       "      <td>Events</td>\n",
       "      <td>According to LinkedIn, the “#1 Most Promising ...</td>\n",
       "    </tr>\n",
       "    <tr>\n",
       "      <th>1</th>\n",
       "      <td>Coming Soon: Cloud Administration</td>\n",
       "      <td>Mar 17, 2022</td>\n",
       "      <td>Codeup News</td>\n",
       "      <td>We’re launching a new program out of San Anton...</td>\n",
       "    </tr>\n",
       "    <tr>\n",
       "      <th>2</th>\n",
       "      <td>5 Books Every Woman In Tech Should Read</td>\n",
       "      <td>Mar 8, 2022</td>\n",
       "      <td>Featured</td>\n",
       "      <td>On this International Women’s Day 2022 we want...</td>\n",
       "    </tr>\n",
       "    <tr>\n",
       "      <th>3</th>\n",
       "      <td>Codeup Start Dates for March 2022</td>\n",
       "      <td>Jan 26, 2022</td>\n",
       "      <td>Codeup News</td>\n",
       "      <td>As we approach the end of January we wanted to...</td>\n",
       "    </tr>\n",
       "    <tr>\n",
       "      <th>4</th>\n",
       "      <td>VET TEC Funding Now Available For Dallas Veterans</td>\n",
       "      <td>Jan 7, 2022</td>\n",
       "      <td>Codeup News</td>\n",
       "      <td>We are so happy to announce that VET TEC benef...</td>\n",
       "    </tr>\n",
       "    <tr>\n",
       "      <th>5</th>\n",
       "      <td>Dallas Campus Re-opens With New Grant Partner</td>\n",
       "      <td>Dec 30, 2021</td>\n",
       "      <td>Codeup News</td>\n",
       "      <td>We are happy to announce that our Dallas campu...</td>\n",
       "    </tr>\n",
       "    <tr>\n",
       "      <th>6</th>\n",
       "      <td>Codeup’s Placement Team Continues Setting Records</td>\n",
       "      <td>Nov 19, 2021</td>\n",
       "      <td>Codeup News</td>\n",
       "      <td>Our Placement Team is simply defined as a grou...</td>\n",
       "    </tr>\n",
       "    <tr>\n",
       "      <th>7</th>\n",
       "      <td>IT Certifications 101: Why They Matter, and Wh...</td>\n",
       "      <td>Nov 18, 2021</td>\n",
       "      <td>IT Training</td>\n",
       "      <td>AWS, Google, Azure, Red Hat, CompTIA…these are...</td>\n",
       "    </tr>\n",
       "    <tr>\n",
       "      <th>8</th>\n",
       "      <td>A rise in cyber attacks means opportunities fo...</td>\n",
       "      <td>Nov 17, 2021</td>\n",
       "      <td>Cybersecurity</td>\n",
       "      <td>In the last few months, the US has experienced...</td>\n",
       "    </tr>\n",
       "    <tr>\n",
       "      <th>9</th>\n",
       "      <td>Use your GI Bill® benefits to Land a Job in Tech</td>\n",
       "      <td>Nov 4, 2021</td>\n",
       "      <td>Codeup News</td>\n",
       "      <td>As the end of military service gets closer, ma...</td>\n",
       "    </tr>\n",
       "    <tr>\n",
       "      <th>10</th>\n",
       "      <td>Which program is right for me: Cyber Security ...</td>\n",
       "      <td>Oct 28, 2021</td>\n",
       "      <td>IT Training</td>\n",
       "      <td>What IT Career should I choose? If you’re thin...</td>\n",
       "    </tr>\n",
       "    <tr>\n",
       "      <th>11</th>\n",
       "      <td>What the Heck is System Engineering?</td>\n",
       "      <td>Oct 21, 2021</td>\n",
       "      <td>IT Training</td>\n",
       "      <td>Codeup offers a 13-week training program: Syst...</td>\n",
       "    </tr>\n",
       "    <tr>\n",
       "      <th>12</th>\n",
       "      <td>From Speech Pathology to Business Intelligence</td>\n",
       "      <td>Oct 18, 2021</td>\n",
       "      <td>Alumni Stories</td>\n",
       "      <td>By: Alicia Gonzalez Before Codeup, I was a hom...</td>\n",
       "    </tr>\n",
       "    <tr>\n",
       "      <th>13</th>\n",
       "      <td>Boris – Behind the Billboards</td>\n",
       "      <td>Oct 3, 2021</td>\n",
       "      <td>Behind the Billboards</td>\n",
       "      <td></td>\n",
       "    </tr>\n",
       "    <tr>\n",
       "      <th>14</th>\n",
       "      <td>Is Codeup the Best Bootcamp in San Antonio…or ...</td>\n",
       "      <td>Sep 16, 2021</td>\n",
       "      <td>Codeup News</td>\n",
       "      <td>Looking for the best data science bootcamp in ...</td>\n",
       "    </tr>\n",
       "  </tbody>\n",
       "</table>\n",
       "</div>"
      ],
      "text/plain": [
       "                                                title          date  \\\n",
       "0              Learn to Code: Python Workshop on 4/23  Mar 31, 2022   \n",
       "1                   Coming Soon: Cloud Administration  Mar 17, 2022   \n",
       "2             5 Books Every Woman In Tech Should Read   Mar 8, 2022   \n",
       "3                   Codeup Start Dates for March 2022  Jan 26, 2022   \n",
       "4   VET TEC Funding Now Available For Dallas Veterans   Jan 7, 2022   \n",
       "5       Dallas Campus Re-opens With New Grant Partner  Dec 30, 2021   \n",
       "6   Codeup’s Placement Team Continues Setting Records  Nov 19, 2021   \n",
       "7   IT Certifications 101: Why They Matter, and Wh...  Nov 18, 2021   \n",
       "8   A rise in cyber attacks means opportunities fo...  Nov 17, 2021   \n",
       "9    Use your GI Bill® benefits to Land a Job in Tech   Nov 4, 2021   \n",
       "10  Which program is right for me: Cyber Security ...  Oct 28, 2021   \n",
       "11               What the Heck is System Engineering?  Oct 21, 2021   \n",
       "12     From Speech Pathology to Business Intelligence  Oct 18, 2021   \n",
       "13                      Boris – Behind the Billboards   Oct 3, 2021   \n",
       "14  Is Codeup the Best Bootcamp in San Antonio…or ...  Sep 16, 2021   \n",
       "\n",
       "                 category                                            content  \n",
       "0                  Events  According to LinkedIn, the “#1 Most Promising ...  \n",
       "1             Codeup News  We’re launching a new program out of San Anton...  \n",
       "2                Featured  On this International Women’s Day 2022 we want...  \n",
       "3             Codeup News  As we approach the end of January we wanted to...  \n",
       "4             Codeup News  We are so happy to announce that VET TEC benef...  \n",
       "5             Codeup News  We are happy to announce that our Dallas campu...  \n",
       "6             Codeup News  Our Placement Team is simply defined as a grou...  \n",
       "7             IT Training  AWS, Google, Azure, Red Hat, CompTIA…these are...  \n",
       "8           Cybersecurity  In the last few months, the US has experienced...  \n",
       "9             Codeup News  As the end of military service gets closer, ma...  \n",
       "10            IT Training  What IT Career should I choose? If you’re thin...  \n",
       "11            IT Training  Codeup offers a 13-week training program: Syst...  \n",
       "12         Alumni Stories  By: Alicia Gonzalez Before Codeup, I was a hom...  \n",
       "13  Behind the Billboards                                                     \n",
       "14            Codeup News  Looking for the best data science bootcamp in ...  "
      ]
     },
     "execution_count": 36,
     "metadata": {},
     "output_type": "execute_result"
    }
   ],
   "source": [
    "# Test once without the cache\n",
    "df = aq.get_blog_articles()\n",
    "df"
   ]
  },
  {
   "cell_type": "code",
   "execution_count": 37,
   "id": "f0d67faa-1c5a-4ec2-9854-c89fa7b99ad5",
   "metadata": {},
   "outputs": [
    {
     "name": "stdout",
     "output_type": "stream",
     "text": [
      "Using cached .json file\n"
     ]
    },
    {
     "data": {
      "text/html": [
       "<div>\n",
       "<style scoped>\n",
       "    .dataframe tbody tr th:only-of-type {\n",
       "        vertical-align: middle;\n",
       "    }\n",
       "\n",
       "    .dataframe tbody tr th {\n",
       "        vertical-align: top;\n",
       "    }\n",
       "\n",
       "    .dataframe thead th {\n",
       "        text-align: right;\n",
       "    }\n",
       "</style>\n",
       "<table border=\"1\" class=\"dataframe\">\n",
       "  <thead>\n",
       "    <tr style=\"text-align: right;\">\n",
       "      <th></th>\n",
       "      <th>title</th>\n",
       "      <th>date</th>\n",
       "      <th>category</th>\n",
       "      <th>content</th>\n",
       "    </tr>\n",
       "  </thead>\n",
       "  <tbody>\n",
       "    <tr>\n",
       "      <th>0</th>\n",
       "      <td>Learn to Code: Python Workshop on 4/23</td>\n",
       "      <td>2022-03-31</td>\n",
       "      <td>Events</td>\n",
       "      <td>According to LinkedIn, the “#1 Most Promising ...</td>\n",
       "    </tr>\n",
       "    <tr>\n",
       "      <th>1</th>\n",
       "      <td>Coming Soon: Cloud Administration</td>\n",
       "      <td>2022-03-17</td>\n",
       "      <td>Codeup News</td>\n",
       "      <td>We’re launching a new program out of San Anton...</td>\n",
       "    </tr>\n",
       "    <tr>\n",
       "      <th>2</th>\n",
       "      <td>5 Books Every Woman In Tech Should Read</td>\n",
       "      <td>2022-03-08</td>\n",
       "      <td>Featured</td>\n",
       "      <td>On this International Women’s Day 2022 we want...</td>\n",
       "    </tr>\n",
       "    <tr>\n",
       "      <th>3</th>\n",
       "      <td>Codeup Start Dates for March 2022</td>\n",
       "      <td>2022-01-26</td>\n",
       "      <td>Codeup News</td>\n",
       "      <td>As we approach the end of January we wanted to...</td>\n",
       "    </tr>\n",
       "    <tr>\n",
       "      <th>4</th>\n",
       "      <td>VET TEC Funding Now Available For Dallas Veterans</td>\n",
       "      <td>2022-01-07</td>\n",
       "      <td>Codeup News</td>\n",
       "      <td>We are so happy to announce that VET TEC benef...</td>\n",
       "    </tr>\n",
       "    <tr>\n",
       "      <th>5</th>\n",
       "      <td>Dallas Campus Re-opens With New Grant Partner</td>\n",
       "      <td>2021-12-30</td>\n",
       "      <td>Codeup News</td>\n",
       "      <td>We are happy to announce that our Dallas campu...</td>\n",
       "    </tr>\n",
       "    <tr>\n",
       "      <th>6</th>\n",
       "      <td>Codeup’s Placement Team Continues Setting Records</td>\n",
       "      <td>2021-11-19</td>\n",
       "      <td>Codeup News</td>\n",
       "      <td>Our Placement Team is simply defined as a grou...</td>\n",
       "    </tr>\n",
       "    <tr>\n",
       "      <th>7</th>\n",
       "      <td>IT Certifications 101: Why They Matter, and Wh...</td>\n",
       "      <td>2021-11-18</td>\n",
       "      <td>IT Training</td>\n",
       "      <td>AWS, Google, Azure, Red Hat, CompTIA…these are...</td>\n",
       "    </tr>\n",
       "    <tr>\n",
       "      <th>8</th>\n",
       "      <td>A rise in cyber attacks means opportunities fo...</td>\n",
       "      <td>2021-11-17</td>\n",
       "      <td>Cybersecurity</td>\n",
       "      <td>In the last few months, the US has experienced...</td>\n",
       "    </tr>\n",
       "    <tr>\n",
       "      <th>9</th>\n",
       "      <td>Use your GI Bill® benefits to Land a Job in Tech</td>\n",
       "      <td>2021-11-04</td>\n",
       "      <td>Codeup News</td>\n",
       "      <td>As the end of military service gets closer, ma...</td>\n",
       "    </tr>\n",
       "    <tr>\n",
       "      <th>10</th>\n",
       "      <td>Which program is right for me: Cyber Security ...</td>\n",
       "      <td>2021-10-28</td>\n",
       "      <td>IT Training</td>\n",
       "      <td>What IT Career should I choose? If you’re thin...</td>\n",
       "    </tr>\n",
       "    <tr>\n",
       "      <th>11</th>\n",
       "      <td>What the Heck is System Engineering?</td>\n",
       "      <td>2021-10-21</td>\n",
       "      <td>IT Training</td>\n",
       "      <td>Codeup offers a 13-week training program: Syst...</td>\n",
       "    </tr>\n",
       "    <tr>\n",
       "      <th>12</th>\n",
       "      <td>From Speech Pathology to Business Intelligence</td>\n",
       "      <td>2021-10-18</td>\n",
       "      <td>Alumni Stories</td>\n",
       "      <td>By: Alicia Gonzalez Before Codeup, I was a hom...</td>\n",
       "    </tr>\n",
       "    <tr>\n",
       "      <th>13</th>\n",
       "      <td>Boris – Behind the Billboards</td>\n",
       "      <td>2021-10-03</td>\n",
       "      <td>Behind the Billboards</td>\n",
       "      <td></td>\n",
       "    </tr>\n",
       "    <tr>\n",
       "      <th>14</th>\n",
       "      <td>Is Codeup the Best Bootcamp in San Antonio…or ...</td>\n",
       "      <td>2021-09-16</td>\n",
       "      <td>Codeup News</td>\n",
       "      <td>Looking for the best data science bootcamp in ...</td>\n",
       "    </tr>\n",
       "  </tbody>\n",
       "</table>\n",
       "</div>"
      ],
      "text/plain": [
       "                                                title       date  \\\n",
       "0              Learn to Code: Python Workshop on 4/23 2022-03-31   \n",
       "1                   Coming Soon: Cloud Administration 2022-03-17   \n",
       "2             5 Books Every Woman In Tech Should Read 2022-03-08   \n",
       "3                   Codeup Start Dates for March 2022 2022-01-26   \n",
       "4   VET TEC Funding Now Available For Dallas Veterans 2022-01-07   \n",
       "5       Dallas Campus Re-opens With New Grant Partner 2021-12-30   \n",
       "6   Codeup’s Placement Team Continues Setting Records 2021-11-19   \n",
       "7   IT Certifications 101: Why They Matter, and Wh... 2021-11-18   \n",
       "8   A rise in cyber attacks means opportunities fo... 2021-11-17   \n",
       "9    Use your GI Bill® benefits to Land a Job in Tech 2021-11-04   \n",
       "10  Which program is right for me: Cyber Security ... 2021-10-28   \n",
       "11               What the Heck is System Engineering? 2021-10-21   \n",
       "12     From Speech Pathology to Business Intelligence 2021-10-18   \n",
       "13                      Boris – Behind the Billboards 2021-10-03   \n",
       "14  Is Codeup the Best Bootcamp in San Antonio…or ... 2021-09-16   \n",
       "\n",
       "                 category                                            content  \n",
       "0                  Events  According to LinkedIn, the “#1 Most Promising ...  \n",
       "1             Codeup News  We’re launching a new program out of San Anton...  \n",
       "2                Featured  On this International Women’s Day 2022 we want...  \n",
       "3             Codeup News  As we approach the end of January we wanted to...  \n",
       "4             Codeup News  We are so happy to announce that VET TEC benef...  \n",
       "5             Codeup News  We are happy to announce that our Dallas campu...  \n",
       "6             Codeup News  Our Placement Team is simply defined as a grou...  \n",
       "7             IT Training  AWS, Google, Azure, Red Hat, CompTIA…these are...  \n",
       "8           Cybersecurity  In the last few months, the US has experienced...  \n",
       "9             Codeup News  As the end of military service gets closer, ma...  \n",
       "10            IT Training  What IT Career should I choose? If you’re thin...  \n",
       "11            IT Training  Codeup offers a 13-week training program: Syst...  \n",
       "12         Alumni Stories  By: Alicia Gonzalez Before Codeup, I was a hom...  \n",
       "13  Behind the Billboards                                                     \n",
       "14            Codeup News  Looking for the best data science bootcamp in ...  "
      ]
     },
     "execution_count": 37,
     "metadata": {},
     "output_type": "execute_result"
    }
   ],
   "source": [
    "# Test with the cached json\n",
    "df = aq.get_blog_articles()\n",
    "df"
   ]
  },
  {
   "cell_type": "markdown",
   "id": "5c1ae610-efd4-4e9a-a81d-61fe3bee448f",
   "metadata": {},
   "source": [
    "**News Articles**"
   ]
  },
  {
   "cell_type": "code",
   "execution_count": 38,
   "id": "f84ddba4-cd32-4bc4-ac7f-da4486a4a254",
   "metadata": {},
   "outputs": [
    {
     "name": "stdout",
     "output_type": "stream",
     "text": [
      "Getting business articles\n",
      "Getting sports articles\n",
      "Getting technology articles\n",
      "Getting entertainment articles\n"
     ]
    },
    {
     "data": {
      "text/html": [
       "<div>\n",
       "<style scoped>\n",
       "    .dataframe tbody tr th:only-of-type {\n",
       "        vertical-align: middle;\n",
       "    }\n",
       "\n",
       "    .dataframe tbody tr th {\n",
       "        vertical-align: top;\n",
       "    }\n",
       "\n",
       "    .dataframe thead th {\n",
       "        text-align: right;\n",
       "    }\n",
       "</style>\n",
       "<table border=\"1\" class=\"dataframe\">\n",
       "  <thead>\n",
       "    <tr style=\"text-align: right;\">\n",
       "      <th></th>\n",
       "      <th>category</th>\n",
       "      <th>title</th>\n",
       "      <th>author</th>\n",
       "      <th>date</th>\n",
       "      <th>content</th>\n",
       "    </tr>\n",
       "  </thead>\n",
       "  <tbody>\n",
       "    <tr>\n",
       "      <th>0</th>\n",
       "      <td>business</td>\n",
       "      <td>Rupee hits all-time low of 77.42 against US do...</td>\n",
       "      <td>Apaar Sharma</td>\n",
       "      <td>09 May 2022</td>\n",
       "      <td>The Indian rupee fell to an all-time low of 77...</td>\n",
       "    </tr>\n",
       "    <tr>\n",
       "      <th>1</th>\n",
       "      <td>business</td>\n",
       "      <td>Bitcoin falls to the lowest level since Januar...</td>\n",
       "      <td>Pragya Swastik</td>\n",
       "      <td>09 May 2022</td>\n",
       "      <td>Bitcoin fell on Monday to as low as $33,266 in...</td>\n",
       "    </tr>\n",
       "    <tr>\n",
       "      <th>2</th>\n",
       "      <td>business</td>\n",
       "      <td>Rupee closes at all-time low of 77.50 against ...</td>\n",
       "      <td>Pragya Swastik</td>\n",
       "      <td>09 May 2022</td>\n",
       "      <td>The Indian rupee weakened further on Monday to...</td>\n",
       "    </tr>\n",
       "    <tr>\n",
       "      <th>3</th>\n",
       "      <td>business</td>\n",
       "      <td>Made best possible decision: IndiGo on barring...</td>\n",
       "      <td>Pragya Swastik</td>\n",
       "      <td>09 May 2022</td>\n",
       "      <td>IndiGo's CEO Ronojoy Dutta said the airline ma...</td>\n",
       "    </tr>\n",
       "    <tr>\n",
       "      <th>4</th>\n",
       "      <td>business</td>\n",
       "      <td>India's biggest IPO of LIC subscribed nearly 3...</td>\n",
       "      <td>Pragya Swastik</td>\n",
       "      <td>09 May 2022</td>\n",
       "      <td>LIC's IPO, India's biggest IPO which opened on...</td>\n",
       "    </tr>\n",
       "    <tr>\n",
       "      <th>...</th>\n",
       "      <td>...</td>\n",
       "      <td>...</td>\n",
       "      <td>...</td>\n",
       "      <td>...</td>\n",
       "      <td>...</td>\n",
       "    </tr>\n",
       "    <tr>\n",
       "      <th>94</th>\n",
       "      <td>entertainment</td>\n",
       "      <td>Nimrat Kaur shares pic of tattoo, says got it ...</td>\n",
       "      <td>Kriti Kambiri</td>\n",
       "      <td>09 May 2022</td>\n",
       "      <td>Actress Nimrat Kaur shared a series of picture...</td>\n",
       "    </tr>\n",
       "    <tr>\n",
       "      <th>95</th>\n",
       "      <td>entertainment</td>\n",
       "      <td>U2's Bono, The Edge perform at bomb shelter in...</td>\n",
       "      <td>Kriti Kambiri</td>\n",
       "      <td>09 May 2022</td>\n",
       "      <td>Irish band U2's members Bono and The Edge perf...</td>\n",
       "    </tr>\n",
       "    <tr>\n",
       "      <th>96</th>\n",
       "      <td>entertainment</td>\n",
       "      <td>Malavika Mohanan to star opposite Prabhas in t...</td>\n",
       "      <td>Udit Gupta</td>\n",
       "      <td>09 May 2022</td>\n",
       "      <td>Malavika Mohanan has reportedly been roped in ...</td>\n",
       "    </tr>\n",
       "    <tr>\n",
       "      <th>97</th>\n",
       "      <td>entertainment</td>\n",
       "      <td>Took me a while to break it: Isha Koppikar on ...</td>\n",
       "      <td>Mahima Kharbanda</td>\n",
       "      <td>09 May 2022</td>\n",
       "      <td>Isha Koppikar, who has been a part of several ...</td>\n",
       "    </tr>\n",
       "    <tr>\n",
       "      <th>98</th>\n",
       "      <td>entertainment</td>\n",
       "      <td>People taunted me for not getting pregnant, tr...</td>\n",
       "      <td>Kriti Kambiri</td>\n",
       "      <td>09 May 2022</td>\n",
       "      <td>Actress Sambhavna Seth has revealed that she h...</td>\n",
       "    </tr>\n",
       "  </tbody>\n",
       "</table>\n",
       "<p>99 rows × 5 columns</p>\n",
       "</div>"
      ],
      "text/plain": [
       "         category                                              title  \\\n",
       "0        business  Rupee hits all-time low of 77.42 against US do...   \n",
       "1        business  Bitcoin falls to the lowest level since Januar...   \n",
       "2        business  Rupee closes at all-time low of 77.50 against ...   \n",
       "3        business  Made best possible decision: IndiGo on barring...   \n",
       "4        business  India's biggest IPO of LIC subscribed nearly 3...   \n",
       "..            ...                                                ...   \n",
       "94  entertainment  Nimrat Kaur shares pic of tattoo, says got it ...   \n",
       "95  entertainment  U2's Bono, The Edge perform at bomb shelter in...   \n",
       "96  entertainment  Malavika Mohanan to star opposite Prabhas in t...   \n",
       "97  entertainment  Took me a while to break it: Isha Koppikar on ...   \n",
       "98  entertainment  People taunted me for not getting pregnant, tr...   \n",
       "\n",
       "              author         date  \\\n",
       "0       Apaar Sharma  09 May 2022   \n",
       "1     Pragya Swastik  09 May 2022   \n",
       "2     Pragya Swastik  09 May 2022   \n",
       "3     Pragya Swastik  09 May 2022   \n",
       "4     Pragya Swastik  09 May 2022   \n",
       "..               ...          ...   \n",
       "94     Kriti Kambiri  09 May 2022   \n",
       "95     Kriti Kambiri  09 May 2022   \n",
       "96        Udit Gupta  09 May 2022   \n",
       "97  Mahima Kharbanda  09 May 2022   \n",
       "98     Kriti Kambiri  09 May 2022   \n",
       "\n",
       "                                              content  \n",
       "0   The Indian rupee fell to an all-time low of 77...  \n",
       "1   Bitcoin fell on Monday to as low as $33,266 in...  \n",
       "2   The Indian rupee weakened further on Monday to...  \n",
       "3   IndiGo's CEO Ronojoy Dutta said the airline ma...  \n",
       "4   LIC's IPO, India's biggest IPO which opened on...  \n",
       "..                                                ...  \n",
       "94  Actress Nimrat Kaur shared a series of picture...  \n",
       "95  Irish band U2's members Bono and The Edge perf...  \n",
       "96  Malavika Mohanan has reportedly been roped in ...  \n",
       "97  Isha Koppikar, who has been a part of several ...  \n",
       "98  Actress Sambhavna Seth has revealed that she h...  \n",
       "\n",
       "[99 rows x 5 columns]"
      ]
     },
     "execution_count": 38,
     "metadata": {},
     "output_type": "execute_result"
    }
   ],
   "source": [
    "# Test without cache\n",
    "df = aq.get_news_articles()\n",
    "df"
   ]
  },
  {
   "cell_type": "code",
   "execution_count": 39,
   "id": "2c8373f0-06cd-43d9-a390-731991ea99bc",
   "metadata": {},
   "outputs": [
    {
     "name": "stdout",
     "output_type": "stream",
     "text": [
      "Using cached .json file\n"
     ]
    },
    {
     "data": {
      "text/html": [
       "<div>\n",
       "<style scoped>\n",
       "    .dataframe tbody tr th:only-of-type {\n",
       "        vertical-align: middle;\n",
       "    }\n",
       "\n",
       "    .dataframe tbody tr th {\n",
       "        vertical-align: top;\n",
       "    }\n",
       "\n",
       "    .dataframe thead th {\n",
       "        text-align: right;\n",
       "    }\n",
       "</style>\n",
       "<table border=\"1\" class=\"dataframe\">\n",
       "  <thead>\n",
       "    <tr style=\"text-align: right;\">\n",
       "      <th></th>\n",
       "      <th>category</th>\n",
       "      <th>title</th>\n",
       "      <th>author</th>\n",
       "      <th>date</th>\n",
       "      <th>content</th>\n",
       "    </tr>\n",
       "  </thead>\n",
       "  <tbody>\n",
       "    <tr>\n",
       "      <th>0</th>\n",
       "      <td>business</td>\n",
       "      <td>Rupee hits all-time low of 77.42 against US do...</td>\n",
       "      <td>Apaar Sharma</td>\n",
       "      <td>2022-05-09</td>\n",
       "      <td>The Indian rupee fell to an all-time low of 77...</td>\n",
       "    </tr>\n",
       "    <tr>\n",
       "      <th>1</th>\n",
       "      <td>business</td>\n",
       "      <td>Bitcoin falls to the lowest level since Januar...</td>\n",
       "      <td>Pragya Swastik</td>\n",
       "      <td>2022-05-09</td>\n",
       "      <td>Bitcoin fell on Monday to as low as $33,266 in...</td>\n",
       "    </tr>\n",
       "    <tr>\n",
       "      <th>2</th>\n",
       "      <td>business</td>\n",
       "      <td>Rupee closes at all-time low of 77.50 against ...</td>\n",
       "      <td>Pragya Swastik</td>\n",
       "      <td>2022-05-09</td>\n",
       "      <td>The Indian rupee weakened further on Monday to...</td>\n",
       "    </tr>\n",
       "    <tr>\n",
       "      <th>3</th>\n",
       "      <td>business</td>\n",
       "      <td>Made best possible decision: IndiGo on barring...</td>\n",
       "      <td>Pragya Swastik</td>\n",
       "      <td>2022-05-09</td>\n",
       "      <td>IndiGo's CEO Ronojoy Dutta said the airline ma...</td>\n",
       "    </tr>\n",
       "    <tr>\n",
       "      <th>4</th>\n",
       "      <td>business</td>\n",
       "      <td>India's biggest IPO of LIC subscribed nearly 3...</td>\n",
       "      <td>Pragya Swastik</td>\n",
       "      <td>2022-05-09</td>\n",
       "      <td>LIC's IPO, India's biggest IPO which opened on...</td>\n",
       "    </tr>\n",
       "    <tr>\n",
       "      <th>...</th>\n",
       "      <td>...</td>\n",
       "      <td>...</td>\n",
       "      <td>...</td>\n",
       "      <td>...</td>\n",
       "      <td>...</td>\n",
       "    </tr>\n",
       "    <tr>\n",
       "      <th>94</th>\n",
       "      <td>entertainment</td>\n",
       "      <td>Nimrat Kaur shares pic of tattoo, says got it ...</td>\n",
       "      <td>Kriti Kambiri</td>\n",
       "      <td>2022-05-09</td>\n",
       "      <td>Actress Nimrat Kaur shared a series of picture...</td>\n",
       "    </tr>\n",
       "    <tr>\n",
       "      <th>95</th>\n",
       "      <td>entertainment</td>\n",
       "      <td>U2's Bono, The Edge perform at bomb shelter in...</td>\n",
       "      <td>Kriti Kambiri</td>\n",
       "      <td>2022-05-09</td>\n",
       "      <td>Irish band U2's members Bono and The Edge perf...</td>\n",
       "    </tr>\n",
       "    <tr>\n",
       "      <th>96</th>\n",
       "      <td>entertainment</td>\n",
       "      <td>Malavika Mohanan to star opposite Prabhas in t...</td>\n",
       "      <td>Udit Gupta</td>\n",
       "      <td>2022-05-09</td>\n",
       "      <td>Malavika Mohanan has reportedly been roped in ...</td>\n",
       "    </tr>\n",
       "    <tr>\n",
       "      <th>97</th>\n",
       "      <td>entertainment</td>\n",
       "      <td>Took me a while to break it: Isha Koppikar on ...</td>\n",
       "      <td>Mahima Kharbanda</td>\n",
       "      <td>2022-05-09</td>\n",
       "      <td>Isha Koppikar, who has been a part of several ...</td>\n",
       "    </tr>\n",
       "    <tr>\n",
       "      <th>98</th>\n",
       "      <td>entertainment</td>\n",
       "      <td>People taunted me for not getting pregnant, tr...</td>\n",
       "      <td>Kriti Kambiri</td>\n",
       "      <td>2022-05-09</td>\n",
       "      <td>Actress Sambhavna Seth has revealed that she h...</td>\n",
       "    </tr>\n",
       "  </tbody>\n",
       "</table>\n",
       "<p>99 rows × 5 columns</p>\n",
       "</div>"
      ],
      "text/plain": [
       "         category                                              title  \\\n",
       "0        business  Rupee hits all-time low of 77.42 against US do...   \n",
       "1        business  Bitcoin falls to the lowest level since Januar...   \n",
       "2        business  Rupee closes at all-time low of 77.50 against ...   \n",
       "3        business  Made best possible decision: IndiGo on barring...   \n",
       "4        business  India's biggest IPO of LIC subscribed nearly 3...   \n",
       "..            ...                                                ...   \n",
       "94  entertainment  Nimrat Kaur shares pic of tattoo, says got it ...   \n",
       "95  entertainment  U2's Bono, The Edge perform at bomb shelter in...   \n",
       "96  entertainment  Malavika Mohanan to star opposite Prabhas in t...   \n",
       "97  entertainment  Took me a while to break it: Isha Koppikar on ...   \n",
       "98  entertainment  People taunted me for not getting pregnant, tr...   \n",
       "\n",
       "              author       date  \\\n",
       "0       Apaar Sharma 2022-05-09   \n",
       "1     Pragya Swastik 2022-05-09   \n",
       "2     Pragya Swastik 2022-05-09   \n",
       "3     Pragya Swastik 2022-05-09   \n",
       "4     Pragya Swastik 2022-05-09   \n",
       "..               ...        ...   \n",
       "94     Kriti Kambiri 2022-05-09   \n",
       "95     Kriti Kambiri 2022-05-09   \n",
       "96        Udit Gupta 2022-05-09   \n",
       "97  Mahima Kharbanda 2022-05-09   \n",
       "98     Kriti Kambiri 2022-05-09   \n",
       "\n",
       "                                              content  \n",
       "0   The Indian rupee fell to an all-time low of 77...  \n",
       "1   Bitcoin fell on Monday to as low as $33,266 in...  \n",
       "2   The Indian rupee weakened further on Monday to...  \n",
       "3   IndiGo's CEO Ronojoy Dutta said the airline ma...  \n",
       "4   LIC's IPO, India's biggest IPO which opened on...  \n",
       "..                                                ...  \n",
       "94  Actress Nimrat Kaur shared a series of picture...  \n",
       "95  Irish band U2's members Bono and The Edge perf...  \n",
       "96  Malavika Mohanan has reportedly been roped in ...  \n",
       "97  Isha Koppikar, who has been a part of several ...  \n",
       "98  Actress Sambhavna Seth has revealed that she h...  \n",
       "\n",
       "[99 rows x 5 columns]"
      ]
     },
     "execution_count": 39,
     "metadata": {},
     "output_type": "execute_result"
    }
   ],
   "source": [
    "# Test with the cached json\n",
    "df = aq.get_news_articles()\n",
    "df"
   ]
  }
 ],
 "metadata": {
  "kernelspec": {
   "display_name": "Python 3.9.7 64-bit ('base': conda)",
   "language": "python",
   "name": "python397jvsc74a57bd038cca0c38332a56087b24af0bc80247f4fced29cb4f7f437d91dc159adec9c4e"
  },
  "language_info": {
   "codemirror_mode": {
    "name": "ipython",
    "version": 3
   },
   "file_extension": ".py",
   "mimetype": "text/x-python",
   "name": "python",
   "nbconvert_exporter": "python",
   "pygments_lexer": "ipython3",
   "version": "3.9.7"
  }
 },
 "nbformat": 4,
 "nbformat_minor": 5
}
